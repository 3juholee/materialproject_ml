{
 "cells": [
  {
   "cell_type": "code",
   "execution_count": 3,
   "metadata": {
    "collapsed": true
   },
   "outputs": [],
   "source": [
    "import pymatgen_pars as pymt\n",
    "import numpy as np\n",
    "import pymatgen.analysis.bond_valence as bv\n",
    "from collections import Counter"
   ]
  },
  {
   "cell_type": "code",
   "execution_count": 5,
   "metadata": {
    "collapsed": false
   },
   "outputs": [],
   "source": [
    "st=pymt.read_unique_data(\"unique_data.json\")"
   ]
  },
  {
   "cell_type": "code",
   "execution_count": 6,
   "metadata": {
    "collapsed": false
   },
   "outputs": [],
   "source": [
    "import tqdm\n",
    "st_masked=[i for i in st if np.all([a in bv.BV_PARAMS for a in i.composition.elements])]\n",
    "BV=bv.BVAnalyzer()"
   ]
  },
  {
   "cell_type": "code",
   "execution_count": 7,
   "metadata": {
    "collapsed": false
   },
   "outputs": [
    {
     "name": "stdout",
     "output_type": "stream",
     "text": [
      "\n"
     ]
    }
   ],
   "source": [
    "valency2=[]\n",
    "True_vals=[]\n",
    "for i in tqdm.tqdm_notebook(st_masked[5000:10000]):\n",
    "    try:\n",
    "        valency2.append(BV.get_valences(i))\n",
    "        True_vals.append(i)\n",
    "    except:\n",
    "        pass"
   ]
  },
  {
   "cell_type": "code",
   "execution_count": 18,
   "metadata": {
    "collapsed": false
   },
   "outputs": [
    {
     "data": {
      "text/plain": [
       "[0, 1, 2, 3, 5, 7, 8, 9, 11, 12, 13, 14, 15, 17, 18, 19, 20, 21, 24, 25]"
      ]
     },
     "execution_count": 18,
     "metadata": {},
     "output_type": "execute_result"
    }
   ],
   "source": [
    "True_vals[0:20]"
   ]
  },
  {
   "cell_type": "code",
   "execution_count": 19,
   "metadata": {
    "collapsed": true
   },
   "outputs": [],
   "source": [
    "import pickle\n",
    "\n",
    "with open(\"val2.pickle\",\"w\") as f:\n",
    "    pickle.dump(valency2,f)\n",
    "\n",
    "with open(\"True2.pickle\",\"w\") as f:\n",
    "    pickle.dump(True_vals,f)"
   ]
  },
  {
   "cell_type": "code",
   "execution_count": 22,
   "metadata": {
    "collapsed": true
   },
   "outputs": [],
   "source": [
    "t5=[i+20000 for i in True_vals]"
   ]
  },
  {
   "cell_type": "code",
   "execution_count": 24,
   "metadata": {
    "collapsed": false
   },
   "outputs": [],
   "source": [
    "True5=[st_masked[i] for i in t5]"
   ]
  },
  {
   "cell_type": "code",
   "execution_count": 26,
   "metadata": {
    "collapsed": false
   },
   "outputs": [
    {
     "data": {
      "text/plain": [
       "(Structure Summary\n",
       " Lattice\n",
       "     abc : 5.9283650699999999 5.9283648800000011 6.0646214599999997\n",
       "  angles : 87.698849909999993 59.417750479999995 58.627065609999995\n",
       "  volume : 149.1667358540013\n",
       "       A : 5.1037276445940201 0.0 3.0162023362173298\n",
       "       B : 3.4443483494253377 4.8192648844152082 0.23803481272881188\n",
       "       C : 0.0 0.0 6.0646214599999997\n",
       " PeriodicSite: Mn (1.7222, 2.4096, 3.1513) [0.0000, 0.5000, 0.5000]\n",
       " PeriodicSite: Mn (0.0000, 0.0000, 0.0000) [0.0000, 0.0000, 0.0000]\n",
       " PeriodicSite: Mn (2.5519, 0.0000, 1.5081) [0.5000, 0.0000, 0.0000]\n",
       " PeriodicSite: Mn (1.7222, 2.4096, 0.1190) [0.0000, 0.5000, 0.0000]\n",
       " PeriodicSite: Ni (4.2740, 2.4096, 1.6271) [0.5000, 0.5000, 0.0000]\n",
       " PeriodicSite: O (3.2938, 1.2987, 6.3501) [0.4635, 0.2695, 0.8060]\n",
       " PeriodicSite: O (5.9791, 1.3209, 7.8593) [0.9865, 0.2741, 0.7945]\n",
       " PeriodicSite: O (5.1378, 3.7641, 6.4508) [0.4796, 0.7811, 0.7945]\n",
       " PeriodicSite: O (7.5051, 3.5853, 7.8013) [0.9684, 0.7440, 0.7755]\n",
       " PeriodicSite: O (1.0429, 1.2339, 1.5175) [0.0316, 0.2560, 0.2245]\n",
       " PeriodicSite: O (3.4103, 1.0551, 2.8680) [0.5204, 0.2189, 0.2055]\n",
       " PeriodicSite: O (2.5690, 3.4984, 1.4596) [0.0135, 0.7259, 0.2055]\n",
       " PeriodicSite: O (5.2543, 3.5206, 2.9687) [0.5365, 0.7305, 0.1940],\n",
       " [3, 3, 4, 4, 2, -2, -2, -2, -2, -2, -2, -2, -2])"
      ]
     },
     "execution_count": 26,
     "metadata": {},
     "output_type": "execute_result"
    }
   ],
   "source": [
    "True5[0],valency5[0]"
   ]
  },
  {
   "cell_type": "code",
   "execution_count": 27,
   "metadata": {
    "collapsed": true
   },
   "outputs": [],
   "source": [
    "with open(\"val5.pickle\",\"w\") as f:\n",
    "    pickle.dump(valency5,f)\n",
    "\n",
    "with open(\"True5.pickle\",\"w\") as f:\n",
    "    pickle.dump(True5,f)"
   ]
  },
  {
   "cell_type": "code",
   "execution_count": 28,
   "metadata": {
    "collapsed": false
   },
   "outputs": [
    {
     "name": "stdout",
     "output_type": "stream",
     "text": [
      "\n"
     ]
    }
   ],
   "source": [
    "True_vals2=[]\n",
    "for i in tqdm.tqdm_notebook(st_masked[5000:10000]):\n",
    "    try:\n",
    "        BV.get_valences(i)\n",
    "        True_vals2.append(i)\n",
    "    except:\n",
    "        pass"
   ]
  },
  {
   "cell_type": "code",
   "execution_count": 29,
   "metadata": {
    "collapsed": true
   },
   "outputs": [],
   "source": [
    "with open(\"True2.pickle\",\"w\") as f:\n",
    "    pickle.dump(True_vals2,f)"
   ]
  },
  {
   "cell_type": "code",
   "execution_count": 30,
   "metadata": {
    "collapsed": false
   },
   "outputs": [
    {
     "data": {
      "text/plain": [
       "{Element Eu: {'c': 1.01, 'r': 1.62},\n",
       " Element Tb: {'c': 1.1, 'r': 1.56},\n",
       " Element Yb: {'c': 1.06, 'r': 1.49},\n",
       " Element Cs: {'c': 0.86, 'r': 2.05},\n",
       " Element K: {'c': 0.91, 'r': 1.73},\n",
       " Element Rb: {'c': 0.89, 'r': 1.84},\n",
       " Element Ba: {'c': 0.97, 'r': 1.88},\n",
       " Element Na: {'c': 1.01, 'r': 1.36},\n",
       " Element Sr: {'c': 0.99, 'r': 1.66},\n",
       " Element Li: {'c': 0.97, 'r': 1.0},\n",
       " Element Ca: {'c': 1.04, 'r': 1.5},\n",
       " Element La: {'c': 1.08, 'r': 1.71},\n",
       " Element Ce: {'c': 1.08, 'r': 1.68},\n",
       " Element Pr: {'c': 1.07, 'r': 1.66},\n",
       " Element Nd: {'c': 1.07, 'r': 1.64},\n",
       " Element Sm: {'c': 1.07, 'r': 1.61},\n",
       " Element Gd: {'c': 1.11, 'r': 1.58},\n",
       " Element Dy: {'c': 1.1, 'r': 1.54},\n",
       " Element Y: {'c': 1.11, 'r': 1.52},\n",
       " Element Ho: {'c': 1.1, 'r': 1.53},\n",
       " Element Er: {'c': 1.11, 'r': 1.51},\n",
       " Element Tm: {'c': 1.11, 'r': 1.5},\n",
       " Element Lu: {'c': 1.14, 'r': 1.47},\n",
       " Element Hf: {'c': 1.23, 'r': 1.42},\n",
       " Element Th: {'c': 1.11, 'r': 1.7},\n",
       " Element Mg: {'c': 1.23, 'r': 1.21},\n",
       " Element Zr: {'c': 1.22, 'r': 1.43},\n",
       " Element Sc: {'c': 1.2, 'r': 1.34},\n",
       " Element U: {'c': 1.22, 'r': 1.59},\n",
       " Element Ta: {'c': 1.33, 'r': 1.39},\n",
       " Element Ti: {'c': 1.32, 'r': 1.27},\n",
       " Element Mn: {'c': 1.6, 'r': 1.17},\n",
       " Element Be: {'c': 1.47, 'r': 0.81},\n",
       " Element Nb: {'c': 1.23, 'r': 1.4},\n",
       " Element Al: {'c': 1.47, 'r': 1.13},\n",
       " Element Tl: {'c': 1.44, 'r': 1.62},\n",
       " Element V: {'c': 1.45, 'r': 1.21},\n",
       " Element Zn: {'c': 1.66, 'r': 1.07},\n",
       " Element Cr: {'c': 1.56, 'r': 1.16},\n",
       " Element Cd: {'c': 1.46, 'r': 1.28},\n",
       " Element In: {'c': 1.49, 'r': 1.34},\n",
       " Element Ga: {'c': 1.82, 'r': 1.14},\n",
       " Element Fe: {'c': 1.64, 'r': 1.16},\n",
       " Element Co: {'c': 1.7, 'r': 1.09},\n",
       " Element Cu: {'c': 1.75, 'r': 0.87},\n",
       " Element Re: {'c': 1.46, 'r': 1.37},\n",
       " Element Si: {'c': 1.58, 'r': 1.12},\n",
       " Element Ni: {'c': 1.75, 'r': 1.04},\n",
       " Element Ag: {'c': 1.42, 'r': 1.12},\n",
       " Element Sn: {'c': 1.72, 'r': 1.37},\n",
       " Element Hg: {'c': 1.44, 'r': 1.32},\n",
       " Element Ge: {'c': 1.51, 'r': 1.21},\n",
       " Element Bi: {'c': 1.67, 'r': 1.54},\n",
       " Element B: {'c': 1.6, 'r': 0.79},\n",
       " Element Sb: {'c': 1.72, 'r': 1.41},\n",
       " Element Te: {'c': 2.72, 'r': 1.4},\n",
       " Element Mo: {'c': 1.3, 'r': 1.37},\n",
       " Element As: {'c': 2.23, 'r': 1.21},\n",
       " Element P: {'c': 1.96, 'r': 1.09},\n",
       " Element H: {'c': 0.89, 'r': 0.38},\n",
       " Element Ir: {'c': 1.55, 'r': 1.37},\n",
       " Element Pd: {'c': 1.35, 'r': 1.11},\n",
       " Element Ru: {'c': 1.42, 'r': 1.21},\n",
       " Element Rh: {'c': 1.54, 'r': 1.18},\n",
       " Element Pb: {'c': 1.55, 'r': 1.53},\n",
       " Element W: {'c': 1.4, 'r': 1.38},\n",
       " Element C: {'c': 2.0, 'r': 0.78},\n",
       " Element Se: {'c': 2.51, 'r': 1.18},\n",
       " Element S: {'c': 2.35, 'r': 1.03},\n",
       " Element I: {'c': 2.38, 'r': 1.33},\n",
       " Element Br: {'c': 2.58, 'r': 1.13},\n",
       " Element N: {'c': 2.61, 'r': 0.72},\n",
       " Element Cl: {'c': 2.74, 'r': 0.99},\n",
       " Element O: {'c': 3.15, 'r': 0.63},\n",
       " Element F: {'c': 3.98, 'r': 0.58}}"
      ]
     },
     "execution_count": 30,
     "metadata": {},
     "output_type": "execute_result"
    }
   ],
   "source": [
    "bv.BV_PARAMS"
   ]
  },
  {
   "cell_type": "code",
   "execution_count": 31,
   "metadata": {
    "collapsed": true
   },
   "outputs": [],
   "source": [
    "from pymatgen import Element"
   ]
  },
  {
   "cell_type": "code",
   "execution_count": 32,
   "metadata": {
    "collapsed": false
   },
   "outputs": [
    {
     "data": {
      "text/plain": [
       "[Element Ac,\n",
       " Element Am,\n",
       " Element Ar,\n",
       " Element At,\n",
       " Element Au,\n",
       " Element Bk,\n",
       " Element Cf,\n",
       " Element Cm,\n",
       " Element Es,\n",
       " Element Fm,\n",
       " Element Fr,\n",
       " Element He,\n",
       " Element Kr,\n",
       " Element Lr,\n",
       " Element Md,\n",
       " Element Ne,\n",
       " Element No,\n",
       " Element Np,\n",
       " Element Os,\n",
       " Element Pa,\n",
       " Element Pm,\n",
       " Element Po,\n",
       " Element Pt,\n",
       " Element Pu,\n",
       " Element Ra,\n",
       " Element Rn,\n",
       " Element Tc,\n",
       " Element Xe]"
      ]
     },
     "execution_count": 32,
     "metadata": {},
     "output_type": "execute_result"
    }
   ],
   "source": [
    "[e for e in Element if e not in bv.BV_PARAMS.keys()]"
   ]
  },
  {
   "cell_type": "code",
   "execution_count": null,
   "metadata": {
    "collapsed": true
   },
   "outputs": [],
   "source": []
  }
 ],
 "metadata": {
  "kernelspec": {
   "display_name": "Python 2",
   "language": "python",
   "name": "python2"
  },
  "language_info": {
   "codemirror_mode": {
    "name": "ipython",
    "version": 2
   },
   "file_extension": ".py",
   "mimetype": "text/x-python",
   "name": "python",
   "nbconvert_exporter": "python",
   "pygments_lexer": "ipython2",
   "version": "2.7.11"
  }
 },
 "nbformat": 4,
 "nbformat_minor": 0
}
