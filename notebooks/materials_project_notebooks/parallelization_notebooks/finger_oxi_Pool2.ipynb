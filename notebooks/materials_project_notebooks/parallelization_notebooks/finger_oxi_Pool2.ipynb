{
 "cells": [
  {
   "cell_type": "code",
   "execution_count": 1,
   "metadata": {
    "collapsed": false
   },
   "outputs": [
    {
     "name": "stderr",
     "output_type": "stream",
     "text": [
      "/usr/local/lib/python2.7/site-packages/matplotlib/font_manager.py:273: UserWarning: Matplotlib is building the font cache using fc-list. This may take a moment.\n",
      "  warnings.warn('Matplotlib is building the font cache using fc-list. This may take a moment.')\n"
     ]
    }
   ],
   "source": [
    "import fingerprint as fp\n",
    "struct_all=s_all=fp.read_pickle(\"../data/struct_all.pickle\")\n",
    "\n",
    "structs_lim_50=[x for x in struct_all if len(x.species)<50]\n",
    "\n",
    "ox=fp.read_pickle(\"../data/val_all.pickle\")\n",
    "\n",
    "\n",
    "ox_lim_50=[x for x in ox if len(x)<50]"
   ]
  },
  {
   "cell_type": "code",
   "execution_count": 2,
   "metadata": {
    "collapsed": false
   },
   "outputs": [
    {
     "name": "stdout",
     "output_type": "stream",
     "text": [
      "\n"
     ]
    },
    {
     "data": {
      "text/plain": [
       "(3680, 100)"
      ]
     },
     "execution_count": 2,
     "metadata": {},
     "output_type": "execute_result"
    }
   ],
   "source": [
    "import tqdm\n",
    "import numpy as np\n",
    "def phi_getter(i,ox_i):\n",
    "    return fp.get_phi_scaled(i,obser='oxi',oxi_val=ox_i)\n",
    "    \n",
    "    \n",
    "\n",
    "\n",
    "\n",
    "reload(fp)\n",
    "lim1=3680\n",
    "lim2=7360\n",
    "finger_part=np.array([phi_getter(structs_lim_50[lim1+i],ox_lim_50[lim1+i]) for i in tqdm.tqdm_notebook(range(lim2-lim1))])\n",
    "\n",
    "finger_part.shape"
   ]
  },
  {
   "cell_type": "code",
   "execution_count": 3,
   "metadata": {
    "collapsed": false
   },
   "outputs": [
    {
     "name": "stdout",
     "output_type": "stream",
     "text": [
      "\n"
     ]
    },
    {
     "data": {
      "text/plain": [
       "(3681, 100)"
      ]
     },
     "execution_count": 3,
     "metadata": {},
     "output_type": "execute_result"
    }
   ],
   "source": [
    "lim1=11041\n",
    "lim2=14722\n",
    "finger_part4=np.array([phi_getter(structs_lim_50[lim1+i],ox_lim_50[lim1+i]) for i in tqdm.tqdm_notebook(range(lim2-lim1))])\n",
    "\n",
    "finger_part4.shape"
   ]
  },
  {
   "cell_type": "code",
   "execution_count": 5,
   "metadata": {
    "collapsed": false
   },
   "outputs": [],
   "source": [
    "np.savetxt(\"oxi_finger_part2.npz\",finger_part)\n",
    "\n",
    "np.savetxt(\"oxi_finger_part4.npz\",finger_part4)"
   ]
  },
  {
   "cell_type": "code",
   "execution_count": null,
   "metadata": {
    "collapsed": true
   },
   "outputs": [],
   "source": []
  }
 ],
 "metadata": {
  "kernelspec": {
   "display_name": "Python 2",
   "language": "python",
   "name": "python2"
  },
  "language_info": {
   "codemirror_mode": {
    "name": "ipython",
    "version": 2
   },
   "file_extension": ".py",
   "mimetype": "text/x-python",
   "name": "python",
   "nbconvert_exporter": "python",
   "pygments_lexer": "ipython2",
   "version": "2.7.11"
  }
 },
 "nbformat": 4,
 "nbformat_minor": 0
}
