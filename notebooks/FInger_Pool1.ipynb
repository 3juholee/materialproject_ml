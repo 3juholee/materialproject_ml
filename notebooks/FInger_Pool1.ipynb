{
 "cells": [
  {
   "cell_type": "code",
   "execution_count": 3,
   "metadata": {
    "collapsed": false
   },
   "outputs": [
    {
     "name": "stderr",
     "output_type": "stream",
     "text": [
      "/usr/local/lib/python2.7/site-packages/matplotlib/font_manager.py:273: UserWarning: Matplotlib is building the font cache using fc-list. This may take a moment.\n",
      "  warnings.warn('Matplotlib is building the font cache using fc-list. This may take a moment.')\n"
     ]
    }
   ],
   "source": [
    "import fingerprint as fp\n",
    "struct_all=s_all=fp.read_pickle(\"struct_all.pickle\")\n",
    "structs_lim_50=[x for x in struct_all if len(x.species)<50]"
   ]
  },
  {
   "cell_type": "code",
   "execution_count": 11,
   "metadata": {
    "collapsed": false
   },
   "outputs": [
    {
     "name": "stdout",
     "output_type": "stream",
     "text": [
      "\n"
     ]
    },
    {
     "data": {
      "text/plain": [
       "(3700, 300)"
      ]
     },
     "execution_count": 11,
     "metadata": {},
     "output_type": "execute_result"
    }
   ],
   "source": [
    "import tqdm\n",
    "import numpy as np\n",
    "import itertools\n",
    "def phi_getter(i):\n",
    "    phi_ones=fp.get_phi_scaled(i,obser='ones')\n",
    "    phi_Z=fp.get_phi_scaled(i,obser='Z')\n",
    "    phi_Chi=fp.get_phi_scaled(i,obser='Chi')\n",
    "    return list(itertools.chain(phi_ones,phi_Z,phi_Chi))\n",
    "\n",
    "\n",
    "\n",
    "\n",
    "lim1=0\n",
    "lim2=3700\n",
    "finger_part=np.array([phi_getter(structs_lim_50[lim1+i]) for i in tqdm.tqdm_notebook(range(lim2-lim1))])\n",
    "\n",
    "finger_part.shape"
   ]
  },
  {
   "cell_type": "code",
   "execution_count": 12,
   "metadata": {
    "collapsed": true
   },
   "outputs": [],
   "source": [
    "np.savetxt(\"finger_part1.npz\",finger_part)"
   ]
  },
  {
   "cell_type": "code",
   "execution_count": 13,
   "metadata": {
    "collapsed": true
   },
   "outputs": [],
   "source": [
    "fp1=np.loadtxt(\"finger_part1.npz\")\n",
    "fp2=np.loadtxt(\"finger_part2.npz\")\n",
    "fp3=np.loadtxt(\"finger_part3.npz\")\n",
    "fp4=np.loadtxt(\"finger_part4.npz\")"
   ]
  },
  {
   "cell_type": "code",
   "execution_count": 14,
   "metadata": {
    "collapsed": true
   },
   "outputs": [],
   "source": [
    "finger_all=np.vstack((fp1,fp2,fp3,fp4))"
   ]
  },
  {
   "cell_type": "code",
   "execution_count": 15,
   "metadata": {
    "collapsed": false
   },
   "outputs": [
    {
     "data": {
      "text/plain": [
       "(14722, 300)"
      ]
     },
     "execution_count": 15,
     "metadata": {},
     "output_type": "execute_result"
    }
   ],
   "source": [
    "finger_all.shape"
   ]
  },
  {
   "cell_type": "code",
   "execution_count": 16,
   "metadata": {
    "collapsed": true
   },
   "outputs": [],
   "source": [
    "np.savetxt(\"finger_all.npz\",finger_all)"
   ]
  },
  {
   "cell_type": "code",
   "execution_count": 17,
   "metadata": {
    "collapsed": true
   },
   "outputs": [],
   "source": [
    "import pandas as pd"
   ]
  },
  {
   "cell_type": "code",
   "execution_count": 22,
   "metadata": {
    "collapsed": false
   },
   "outputs": [],
   "source": [
    "Formulae=[x.composition.formula for x in structs_lim_50]"
   ]
  },
  {
   "cell_type": "code",
   "execution_count": 23,
   "metadata": {
    "collapsed": false
   },
   "outputs": [
    {
     "data": {
      "text/plain": [
       "14722"
      ]
     },
     "execution_count": 23,
     "metadata": {},
     "output_type": "execute_result"
    }
   ],
   "source": [
    "len(Formulae)"
   ]
  },
  {
   "cell_type": "code",
   "execution_count": 25,
   "metadata": {
    "collapsed": false
   },
   "outputs": [],
   "source": [
    "Df=pd.DataFrame({\"Formula\":Formulae})"
   ]
  },
  {
   "cell_type": "code",
   "execution_count": 32,
   "metadata": {
    "collapsed": true
   },
   "outputs": [],
   "source": [
    "Df=pd.DataFrame({\"Formula\":Formulae})\n",
    "for i in range(100):\n",
    "    Df[\"Ones_\"+str(i+1)]=finger_all[:,i]\n",
    "for i in range(100):\n",
    "    Df[\"Z_\"+str(i+1)]=finger_all[:,100+i]\n",
    "for i in range(100):\n",
    "    Df[\"Chi_\"+str(i+1)]=finger_all[:,200+i]"
   ]
  },
  {
   "cell_type": "code",
   "execution_count": 33,
   "metadata": {
    "collapsed": false
   },
   "outputs": [
    {
     "data": {
      "text/plain": [
       "Index([u'Formula', u'Ones_1', u'Ones_2', u'Ones_3', u'Ones_4', u'Ones_5',\n",
       "       u'Ones_6', u'Ones_7', u'Ones_8', u'Ones_9',\n",
       "       ...\n",
       "       u'Chi_91', u'Chi_92', u'Chi_93', u'Chi_94', u'Chi_95', u'Chi_96',\n",
       "       u'Chi_97', u'Chi_98', u'Chi_99', u'Chi_100'],\n",
       "      dtype='object', length=301)"
      ]
     },
     "execution_count": 33,
     "metadata": {},
     "output_type": "execute_result"
    }
   ],
   "source": [
    "Df.columns"
   ]
  },
  {
   "cell_type": "code",
   "execution_count": 45,
   "metadata": {
    "collapsed": false
   },
   "outputs": [
    {
     "data": {
      "text/plain": [
       "(2, 300)"
      ]
     },
     "execution_count": 45,
     "metadata": {},
     "output_type": "execute_result"
    }
   ],
   "source": [
    "np.shape(Df.iloc[0:2].drop(\"Formula\",axis=1).values)"
   ]
  },
  {
   "cell_type": "code",
   "execution_count": 46,
   "metadata": {
    "collapsed": true
   },
   "outputs": [],
   "source": [
    "Df.to_csv(\"FingerPrint_lt50.csv\",sep='\\t')"
   ]
  },
  {
   "cell_type": "code",
   "execution_count": 49,
   "metadata": {
    "collapsed": true
   },
   "outputs": [],
   "source": [
    "load_test_csv=pd.read_csv(\"FingerPrint_lt50.csv\",sep='\\t',index_col=0)"
   ]
  },
  {
   "cell_type": "code",
   "execution_count": 51,
   "metadata": {
    "collapsed": false
   },
   "outputs": [
    {
     "data": {
      "text/html": [
       "<div>\n",
       "<table border=\"1\" class=\"dataframe\">\n",
       "  <thead>\n",
       "    <tr style=\"text-align: right;\">\n",
       "      <th></th>\n",
       "      <th>Formula</th>\n",
       "      <th>Ones_1</th>\n",
       "      <th>Ones_2</th>\n",
       "      <th>Ones_3</th>\n",
       "      <th>Ones_4</th>\n",
       "      <th>Ones_5</th>\n",
       "      <th>Ones_6</th>\n",
       "      <th>Ones_7</th>\n",
       "      <th>Ones_8</th>\n",
       "      <th>Ones_9</th>\n",
       "      <th>...</th>\n",
       "      <th>Chi_91</th>\n",
       "      <th>Chi_92</th>\n",
       "      <th>Chi_93</th>\n",
       "      <th>Chi_94</th>\n",
       "      <th>Chi_95</th>\n",
       "      <th>Chi_96</th>\n",
       "      <th>Chi_97</th>\n",
       "      <th>Chi_98</th>\n",
       "      <th>Chi_99</th>\n",
       "      <th>Chi_100</th>\n",
       "    </tr>\n",
       "  </thead>\n",
       "  <tbody>\n",
       "    <tr>\n",
       "      <th>0</th>\n",
       "      <td>Nb1 Ag1 O3</td>\n",
       "      <td>-1.0</td>\n",
       "      <td>-1.0</td>\n",
       "      <td>-1.0</td>\n",
       "      <td>-1.000000</td>\n",
       "      <td>-1.00000</td>\n",
       "      <td>-1.000000</td>\n",
       "      <td>-1.000000</td>\n",
       "      <td>-1.000000</td>\n",
       "      <td>-1.000000</td>\n",
       "      <td>...</td>\n",
       "      <td>-0.497277</td>\n",
       "      <td>-0.453894</td>\n",
       "      <td>-0.191895</td>\n",
       "      <td>0.064329</td>\n",
       "      <td>0.104619</td>\n",
       "      <td>-0.118050</td>\n",
       "      <td>-0.394161</td>\n",
       "      <td>-0.537855</td>\n",
       "      <td>-0.587967</td>\n",
       "      <td>-0.654697</td>\n",
       "    </tr>\n",
       "    <tr>\n",
       "      <th>1</th>\n",
       "      <td>Li2 Ag6 O4</td>\n",
       "      <td>-1.0</td>\n",
       "      <td>-1.0</td>\n",
       "      <td>-1.0</td>\n",
       "      <td>-1.000000</td>\n",
       "      <td>-1.00000</td>\n",
       "      <td>-1.000000</td>\n",
       "      <td>-1.000000</td>\n",
       "      <td>-1.000000</td>\n",
       "      <td>-0.999999</td>\n",
       "      <td>...</td>\n",
       "      <td>-0.120349</td>\n",
       "      <td>-0.206105</td>\n",
       "      <td>-0.217994</td>\n",
       "      <td>-0.183563</td>\n",
       "      <td>-0.075639</td>\n",
       "      <td>0.073079</td>\n",
       "      <td>0.137550</td>\n",
       "      <td>0.062229</td>\n",
       "      <td>-0.112490</td>\n",
       "      <td>-0.359644</td>\n",
       "    </tr>\n",
       "    <tr>\n",
       "      <th>2</th>\n",
       "      <td>Cs2 Ag2 Cl4</td>\n",
       "      <td>-1.0</td>\n",
       "      <td>-1.0</td>\n",
       "      <td>-1.0</td>\n",
       "      <td>-1.000000</td>\n",
       "      <td>-1.00000</td>\n",
       "      <td>-1.000000</td>\n",
       "      <td>-1.000000</td>\n",
       "      <td>-1.000000</td>\n",
       "      <td>-1.000000</td>\n",
       "      <td>...</td>\n",
       "      <td>0.259454</td>\n",
       "      <td>0.218056</td>\n",
       "      <td>0.031980</td>\n",
       "      <td>-0.098497</td>\n",
       "      <td>-0.054451</td>\n",
       "      <td>0.137466</td>\n",
       "      <td>0.285717</td>\n",
       "      <td>0.202032</td>\n",
       "      <td>-0.097068</td>\n",
       "      <td>-0.462973</td>\n",
       "    </tr>\n",
       "    <tr>\n",
       "      <th>3</th>\n",
       "      <td>Ag2 Hg1 I4</td>\n",
       "      <td>-1.0</td>\n",
       "      <td>-1.0</td>\n",
       "      <td>-1.0</td>\n",
       "      <td>-1.000000</td>\n",
       "      <td>-1.00000</td>\n",
       "      <td>-1.000000</td>\n",
       "      <td>-1.000000</td>\n",
       "      <td>-1.000000</td>\n",
       "      <td>-1.000000</td>\n",
       "      <td>...</td>\n",
       "      <td>-0.059718</td>\n",
       "      <td>-0.141794</td>\n",
       "      <td>-0.241085</td>\n",
       "      <td>-0.272397</td>\n",
       "      <td>-0.160438</td>\n",
       "      <td>0.054698</td>\n",
       "      <td>0.275458</td>\n",
       "      <td>0.446003</td>\n",
       "      <td>0.474980</td>\n",
       "      <td>0.227803</td>\n",
       "    </tr>\n",
       "    <tr>\n",
       "      <th>4</th>\n",
       "      <td>Ag2 C2 O6</td>\n",
       "      <td>-1.0</td>\n",
       "      <td>-1.0</td>\n",
       "      <td>-1.0</td>\n",
       "      <td>-0.999999</td>\n",
       "      <td>-0.99997</td>\n",
       "      <td>-0.999462</td>\n",
       "      <td>-0.993801</td>\n",
       "      <td>-0.954192</td>\n",
       "      <td>-0.782973</td>\n",
       "      <td>...</td>\n",
       "      <td>-0.123078</td>\n",
       "      <td>-0.202793</td>\n",
       "      <td>-0.201147</td>\n",
       "      <td>-0.164696</td>\n",
       "      <td>-0.108094</td>\n",
       "      <td>0.009786</td>\n",
       "      <td>0.153578</td>\n",
       "      <td>0.153906</td>\n",
       "      <td>-0.070010</td>\n",
       "      <td>-0.394319</td>\n",
       "    </tr>\n",
       "  </tbody>\n",
       "</table>\n",
       "<p>5 rows × 301 columns</p>\n",
       "</div>"
      ],
      "text/plain": [
       "       Formula  Ones_1  Ones_2  Ones_3    Ones_4   Ones_5    Ones_6    Ones_7  \\\n",
       "0   Nb1 Ag1 O3    -1.0    -1.0    -1.0 -1.000000 -1.00000 -1.000000 -1.000000   \n",
       "1   Li2 Ag6 O4    -1.0    -1.0    -1.0 -1.000000 -1.00000 -1.000000 -1.000000   \n",
       "2  Cs2 Ag2 Cl4    -1.0    -1.0    -1.0 -1.000000 -1.00000 -1.000000 -1.000000   \n",
       "3   Ag2 Hg1 I4    -1.0    -1.0    -1.0 -1.000000 -1.00000 -1.000000 -1.000000   \n",
       "4    Ag2 C2 O6    -1.0    -1.0    -1.0 -0.999999 -0.99997 -0.999462 -0.993801   \n",
       "\n",
       "     Ones_8    Ones_9    ...       Chi_91    Chi_92    Chi_93    Chi_94  \\\n",
       "0 -1.000000 -1.000000    ...    -0.497277 -0.453894 -0.191895  0.064329   \n",
       "1 -1.000000 -0.999999    ...    -0.120349 -0.206105 -0.217994 -0.183563   \n",
       "2 -1.000000 -1.000000    ...     0.259454  0.218056  0.031980 -0.098497   \n",
       "3 -1.000000 -1.000000    ...    -0.059718 -0.141794 -0.241085 -0.272397   \n",
       "4 -0.954192 -0.782973    ...    -0.123078 -0.202793 -0.201147 -0.164696   \n",
       "\n",
       "     Chi_95    Chi_96    Chi_97    Chi_98    Chi_99   Chi_100  \n",
       "0  0.104619 -0.118050 -0.394161 -0.537855 -0.587967 -0.654697  \n",
       "1 -0.075639  0.073079  0.137550  0.062229 -0.112490 -0.359644  \n",
       "2 -0.054451  0.137466  0.285717  0.202032 -0.097068 -0.462973  \n",
       "3 -0.160438  0.054698  0.275458  0.446003  0.474980  0.227803  \n",
       "4 -0.108094  0.009786  0.153578  0.153906 -0.070010 -0.394319  \n",
       "\n",
       "[5 rows x 301 columns]"
      ]
     },
     "execution_count": 51,
     "metadata": {},
     "output_type": "execute_result"
    }
   ],
   "source": [
    "load_test_csv.head()"
   ]
  },
  {
   "cell_type": "code",
   "execution_count": null,
   "metadata": {
    "collapsed": true
   },
   "outputs": [],
   "source": []
  }
 ],
 "metadata": {
  "kernelspec": {
   "display_name": "Python 2",
   "language": "python",
   "name": "python2"
  },
  "language_info": {
   "codemirror_mode": {
    "name": "ipython",
    "version": 2
   },
   "file_extension": ".py",
   "mimetype": "text/x-python",
   "name": "python",
   "nbconvert_exporter": "python",
   "pygments_lexer": "ipython2",
   "version": "2.7.11"
  },
  "widgets": {
   "state": {
    "7832ac24d0b14a31ab8721e9fb8f9cff": {
     "views": [
      {
       "cell_index": 1
      }
     ]
    }
   },
   "version": "1.2.0"
  }
 },
 "nbformat": 4,
 "nbformat_minor": 0
}
