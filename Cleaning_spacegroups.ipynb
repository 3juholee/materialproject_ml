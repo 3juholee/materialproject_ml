{
 "cells": [
  {
   "cell_type": "code",
   "execution_count": 1,
   "metadata": {
    "collapsed": false
   },
   "outputs": [],
   "source": [
    "import csv\n",
    "import pylab as plt\n",
    "import matplotlib.pyplot as mpl\n",
    "\n",
    "%matplotlib inline\n"
   ]
  },
  {
   "cell_type": "markdown",
   "metadata": {},
   "source": [
    "Reading the list of spacegroups that I got from the Bilbao Crystallographic Server and http://quasi.issp.u-tokyo.ac.jp/msas/sglist.html along with some hand cleaning of data. Parsing those into a dictionary. The only issues are with B121/c1 and B121/d1"
   ]
  },
  {
   "cell_type": "code",
   "execution_count": 2,
   "metadata": {
    "collapsed": false
   },
   "outputs": [],
   "source": [
    "with open(\"ICSD/spacegroups.dat\",'r') as f:\n",
    "    dat=csv.reader(f,dialect='excel-tab',quoting=csv.QUOTE_NONE)\n",
    "    list=[element.strip() for row in dat for element in row ]\n",
    "    list1=[[int(list[i*2]),list[i*2+1]] for i in range(len(list)/2)]\n",
    "dict_space={}\n",
    "for i in range(len(list1)):\n",
    "    dict_space[list1[i][1]]=list1[i][0]\n",
    "with open('ICSD/spacegroups_2.dat','r') as f1:\n",
    "        f=f1.readlines()\n",
    "        for line in f:\n",
    "            data=[element.strip() for element in line.split()]\n",
    "            if data[1] not in dict_space.keys():\n",
    "                dict_space[data[1]]=int(data[0])\n",
    "                \n",
    "with open('ICSD/spacegroups_3.dat','r') as f1:\n",
    "        f=f1.readlines()\n",
    "        for line in f:\n",
    "            data=[element.strip() for element in line.split()]\n",
    "            if data[0] not in dict_space.keys():\n",
    "                dict_space[data[0]]=int(data[1]) "
   ]
  },
  {
   "cell_type": "markdown",
   "metadata": {},
   "source": [
    "Now we shall parse all the data from the ICSD ternary file and try and map all the space groups to their space-group numbers, after doing some cleaning up of the data like getting rid of specifiers for RHOMBOHEDRAL/Hexagonal axes etc."
   ]
  },
  {
   "cell_type": "code",
   "execution_count": 3,
   "metadata": {
    "collapsed": false
   },
   "outputs": [],
   "source": [
    "with open('ICSD/icsd-ternaries.csv','r') as f:\n",
    "            data=csv.reader(f,\"excel-tab\")\n",
    "            list_data=[[element.strip() for element in row] for row in data]\n",
    "for row in list_data:\n",
    "    row[1]=row[1].replace(' ','')\n",
    "list_space=[row[1].rstrip('Z').rstrip('S').rstrip(\"H\").rstrip('R') for row in list_data]"
   ]
  },
  {
   "cell_type": "markdown",
   "metadata": {},
   "source": [
    "We shall check if our mapping to space group numbers is exact and then plot the frequency distribution of the different space groups."
   ]
  },
  {
   "cell_type": "code",
   "execution_count": 4,
   "metadata": {
    "collapsed": false,
    "scrolled": true
   },
   "outputs": [
    {
     "name": "stdout",
     "output_type": "stream",
     "text": [
      "Found Entries=68064, Not Found Entries=0\n",
      "Found No Entries for these spacegroups [[ 48  89  93 153 170 171 172 211]]\n"
     ]
    },
    {
     "data": {
      "text/plain": [
       "[<matplotlib.lines.Line2D at 0x11810a050>]"
      ]
     },
     "execution_count": 4,
     "metadata": {},
     "output_type": "execute_result"
    },
    {
     "data": {
      "image/png": "[encoded data removed]",
      "text/plain": [
       "<matplotlib.figure.Figure at 0x110791710>"
      ]
     },
     "metadata": {},
     "output_type": "display_data"
    }
   ],
   "source": [
    "list_nf=[]\n",
    "count_f=plt.array([0]*230)\n",
    "count_not=0\n",
    "for s in list_space:\n",
    "    if s in dict_space.keys():\n",
    "        #print \"Found Element in dictionary for space_group_name {0}, with space_group number {1}\".format(s,dict_space[s])\n",
    "        count_f[dict_space[s]-1]+=1\n",
    "    else:\n",
    "        #print \"Entry not found for space group name \",s\n",
    "        list_nf.append(s)\n",
    "print \"Found Entries={0}, Not Found Entries={1}\".format(sum(count_f),len(list_space)-sum(count_f))\n",
    "print \"Found No Entries for these spacegroups\",plt.array(plt.where(count_f==0))+1\n",
    "plt.plot(plt.arange(230),count_f,'bo-')\n",
    "\n"
   ]
  },
  {
   "cell_type": "markdown",
   "metadata": {},
   "source": [
    "We see that all the lines have been mapped successfully and that a few spacegroups are not present at all while others  have as many as ~6000 entries."
   ]
  },
  {
   "cell_type": "markdown",
   "metadata": {},
   "source": [
    "What the spacegroups with the most compounds?"
   ]
  },
  {
   "cell_type": "code",
   "execution_count": 27,
   "metadata": {
    "collapsed": false
   },
   "outputs": [
    {
     "name": "stdout",
     "output_type": "stream",
     "text": [
      " SG Count\n",
      "--- -----\n",
      " 62  5916\n",
      "227  4241\n",
      "225  3903\n",
      "139  3891\n",
      "194  3586\n",
      " 14  2640\n",
      "166  2469\n",
      " 63  2101\n",
      " 12  1952\n",
      "221  1763\n",
      "191  1746\n",
      "129  1478\n",
      " 15  1428\n",
      "216  1425\n",
      "189  1112\n",
      "148  1087\n",
      "  2  1038\n",
      "164   968\n",
      "167   954\n",
      "140   933\n"
     ]
    }
   ],
   "source": [
    "sg_counts = sorted(enumerate(count_f,1), key = lambda x: x[1], reverse = True)\n",
    "print(\" SG Count\")\n",
    "print(\"--- -----\")\n",
    "for i in range(20):\n",
    "    sg,count = sg_counts[i]\n",
    "    print(\"{:3}  {:4}\".format(sg, count))"
   ]
  },
  {
   "cell_type": "markdown",
   "metadata": {},
   "source": [
    "How are the counts distributed among the space groups? Turns out it's not quite exponentially decaying."
   ]
  },
  {
   "cell_type": "code",
   "execution_count": 21,
   "metadata": {
    "collapsed": false
   },
   "outputs": [
    {
     "data": {
      "text/plain": [
       "[<matplotlib.lines.Line2D at 0x118828310>]"
      ]
     },
     "execution_count": 21,
     "metadata": {},
     "output_type": "execute_result"
    },
    {
     "data": {
      "image/png": "[encoded data removed]",
      "text/plain": [
       "<matplotlib.figure.Figure at 0x114286550>"
      ]
     },
     "metadata": {},
     "output_type": "display_data"
    }
   ],
   "source": [
    "plt.semilogy(range(len(sg_counts)), [e[1] for e in sg_counts], \"o-\")"
   ]
  },
  {
   "cell_type": "code",
   "execution_count": null,
   "metadata": {
    "collapsed": true
   },
   "outputs": [],
   "source": []
  }
 ],
 "metadata": {
  "kernelspec": {
   "display_name": "Python 2",
   "language": "python",
   "name": "python2"
  },
  "language_info": {
   "codemirror_mode": {
    "name": "ipython",
    "version": 2
   },
   "file_extension": ".py",
   "mimetype": "text/x-python",
   "name": "python",
   "nbconvert_exporter": "python",
   "pygments_lexer": "ipython2",
   "version": "2.7.10"
  }
 },
 "nbformat": 4,
 "nbformat_minor": 0
}
