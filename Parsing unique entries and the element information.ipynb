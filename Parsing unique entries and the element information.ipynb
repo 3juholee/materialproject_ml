{
 "cells": [
  {
   "cell_type": "markdown",
   "metadata": {},
   "source": [
    "In this notebook we shall try to remove duplicates from the icsd csv file and then store the Elements(and their frequencies) for each unique composition."
   ]
  },
  {
   "cell_type": "markdown",
   "metadata": {},
   "source": [
    "# Deleting Duplicate Entries Based on Unique Compositions"
   ]
  },
  {
   "cell_type": "code",
   "execution_count": 1,
   "metadata": {
    "collapsed": false
   },
   "outputs": [
    {
     "name": "stderr",
     "output_type": "stream",
     "text": [
      "/usr/local/lib/python2.7/site-packages/matplotlib/font_manager.py:273: UserWarning: Matplotlib is building the font cache using fc-list. This may take a moment.\n",
      "  warnings.warn('Matplotlib is building the font cache using fc-list. This may take a moment.')\n"
     ]
    }
   ],
   "source": [
    "from __future__ import division, print_function\n",
    "\n",
    "import pylab as plt\n",
    "import matplotlib.pyplot as mpl\n",
    "from pymatgen.core import Element, Composition\n",
    "\n",
    "\n",
    "%matplotlib inline"
   ]
  },
  {
   "cell_type": "markdown",
   "metadata": {},
   "source": [
    "We import all the data and check the unique compositions by string matching of the pymatgen formulas. We then make a list out of all the unique entries and write them to a file called Unique_ICSD.dat in the ICSD subfolder."
   ]
  },
  {
   "cell_type": "code",
   "execution_count": 2,
   "metadata": {
    "collapsed": true
   },
   "outputs": [],
   "source": [
    "import csv\n",
    "\n",
    "with open(\"ICSD/icsd-ternaries.csv\", \"r\") as f:\n",
    "    csv_reader = csv.reader(f, dialect = csv.excel_tab)\n",
    "    data = [line for line in csv_reader]"
   ]
  },
  {
   "cell_type": "code",
   "execution_count": 3,
   "metadata": {
    "collapsed": false
   },
   "outputs": [],
   "source": [
    "formulas = [line[2] for line in data]\n",
    "compositions = [Composition(x) for x in formulas]\n",
    "unique_formulas = list(set(formulas))\n",
    "unique_compositions = set(Composition(f).formula for f in unique_formulas)"
   ]
  },
  {
   "cell_type": "code",
   "execution_count": 4,
   "metadata": {
    "collapsed": false
   },
   "outputs": [],
   "source": [
    "unique_data=[]\n",
    "found_comps=[]\n",
    "for line in data:\n",
    "    form=Composition(line[2]).formula \n",
    "    if form not in found_comps:\n",
    "        unique_data.append(line)\n",
    "        found_comps.append(form)"
   ]
  },
  {
   "cell_type": "code",
   "execution_count": 5,
   "metadata": {
    "collapsed": false
   },
   "outputs": [],
   "source": [
    "with open(\"ICSD/Unique_ICSD.dat\",\"w\") as f:\n",
    "    for line in unique_data:\n",
    "        print(\"\\t\".join(line),end='\\n',file=f)"
   ]
  },
  {
   "cell_type": "markdown",
   "metadata": {},
   "source": [
    "Just to check that everything worked out fine, we check that the number of entries in the list we just wrote to file is the same as number of unique compositions found by chuck in the ICSD_ternaries notebook. "
   ]
  },
  {
   "cell_type": "code",
   "execution_count": 6,
   "metadata": {
    "collapsed": false
   },
   "outputs": [
    {
     "name": "stdout",
     "output_type": "stream",
     "text": [
      "Number of unique compositions found by Chuck: 42035\n",
      "Number of lines we just wrote to file: 42035\n"
     ]
    }
   ],
   "source": [
    "print(\"Number of unique compositions found by Chuck:\", len(unique_compositions))\n",
    "print(\"Number of lines we just wrote to file:\",len(unique_data))"
   ]
  },
  {
   "cell_type": "markdown",
   "metadata": {},
   "source": [
    "From now on, this becomes our default datafile. Let us now try to import it in the same way as in Cleaning_spacegroups.ipynb and see if the spacegroup number parsing works. "
   ]
  },
  {
   "cell_type": "code",
   "execution_count": 7,
   "metadata": {
    "collapsed": false
   },
   "outputs": [],
   "source": [
    "with open('ICSD/Unique_ICSD.dat','r') as f:\n",
    "            data_1=csv.reader(f,\"excel-tab\")\n",
    "            list_data1=[[element.strip() for element in row] for row in data_1]\n",
    "for row1 in list_data1:\n",
    "    row1[1]=row1[1].replace(' ','')\n",
    "list_space=[row1[1].rstrip('Z').rstrip('S').rstrip(\"H\").rstrip('R') for row1 in list_data1]"
   ]
  },
  {
   "cell_type": "code",
   "execution_count": 8,
   "metadata": {
    "collapsed": false
   },
   "outputs": [],
   "source": [
    "with open(\"ICSD/spacegroups.dat\",'r') as f:\n",
    "    dat=csv.reader(f,dialect='excel-tab',quoting=csv.QUOTE_NONE)\n",
    "    list_dat=[element.strip() for row in dat for element in row ]\n",
    "    list1=[[int(list_dat[i*2]),list_dat[i*2+1]] for i in range(int(len(list_dat)/2))]\n",
    "dict_space={}\n",
    "for i in range(len(list1)):\n",
    "    dict_space[list1[i][1]]=list1[i][0]\n",
    "with open('ICSD/spacegroups_2.dat','r') as f1:\n",
    "        f=f1.readlines()\n",
    "        for line in f:\n",
    "            data2=[element.strip() for element in line.split()]\n",
    "            if data2[1] not in dict_space.keys():\n",
    "                dict_space[data2[1]]=int(data2[0])\n",
    "                \n",
    "with open('ICSD/spacegroups_3.dat','r') as f1:\n",
    "        f=f1.readlines()\n",
    "        for line in f:\n",
    "            data3=[element.strip() for element in line.split()]\n",
    "            if data3[0] not in dict_space.keys():\n",
    "                dict_space[data3[0]]=int(data3[1]) "
   ]
  },
  {
   "cell_type": "code",
   "execution_count": 9,
   "metadata": {
    "collapsed": false
   },
   "outputs": [
    {
     "name": "stdout",
     "output_type": "stream",
     "text": [
      "Found Entries=42035, Not Found Entries=0\n",
      "Found No Entries for these spacegroups [[ 27  48  89  93 153 170 171 172 179 184 192 207 211]]\n"
     ]
    },
    {
     "data": {
      "text/plain": [
       "[<matplotlib.lines.Line2D at 0x11879b990>]"
      ]
     },
     "execution_count": 9,
     "metadata": {},
     "output_type": "execute_result"
    },
    {
     "data": {
      "image/png": "[encoded data removed]",
      "text/plain": [
       "<matplotlib.figure.Figure at 0x11a4d2510>"
      ]
     },
     "metadata": {},
     "output_type": "display_data"
    }
   ],
   "source": [
    "plt.figure(figsize = (8,5))\n",
    "list_nf=[]\n",
    "count_f=plt.array([0]*230)\n",
    "count_not=0\n",
    "for s in list_space:\n",
    "    if s in dict_space.keys():\n",
    "        #print \"Found Element in dictionary for space_group_name {0}, with space_group number {1}\".format(s,dict_space[s])\n",
    "        count_f[dict_space[s]-1]+=1\n",
    "    else:\n",
    "        #print \"Entry not found for space group name \",s\n",
    "        list_nf.append(s)\n",
    "print(\"Found Entries={0}, Not Found Entries={1}\".format(sum(count_f),len(list_space)-sum(count_f)))\n",
    "print(\"Found No Entries for these spacegroups\",plt.array(plt.where(count_f==0))+1)\n",
    "plt.xlabel(\"Space Group #\")\n",
    "plt.ylabel(\"Number of instances\")\n",
    "plt.title(\"Frequency distibution of data from New Data file based on unique coompositions\")\n",
    "plt.plot(plt.arange(230),count_f,'bo-')"
   ]
  },
  {
   "cell_type": "code",
   "execution_count": 10,
   "metadata": {
    "collapsed": false
   },
   "outputs": [
    {
     "name": "stdout",
     "output_type": "stream",
     "text": [
      " SG Count\n",
      "--- -----\n",
      " 62  3133\n",
      "225  2709\n",
      "194  2633\n",
      "227  2127\n",
      "139  2072\n",
      "166  1654\n",
      " 14  1623\n",
      " 63  1424\n",
      " 12  1365\n",
      "191  1261\n",
      "221  1159\n",
      "216   943\n",
      " 15   874\n",
      "129   863\n",
      "189   746\n",
      "  2   716\n",
      "140   621\n",
      "223   612\n",
      " 71   595\n",
      "148   587\n"
     ]
    },
    {
     "data": {
      "text/plain": [
       "[<matplotlib.lines.Line2D at 0x11a7eb790>]"
      ]
     },
     "execution_count": 10,
     "metadata": {},
     "output_type": "execute_result"
    },
    {
     "data": {
      "image/png": "[encoded data removed]",
      "text/plain": [
       "<matplotlib.figure.Figure at 0x11a4d2090>"
      ]
     },
     "metadata": {},
     "output_type": "display_data"
    }
   ],
   "source": [
    "sg_counts = sorted(enumerate(count_f,1), key = lambda x: x[1], reverse = True)\n",
    "print(\" SG Count\")\n",
    "print(\"--- -----\")\n",
    "for i in range(20):\n",
    "    sg,count = sg_counts[i]\n",
    "    print(\"{:3}  {:4}\".format(sg, count))\n",
    "plt.semilogy(range(len(sg_counts)), [e[1] for e in sg_counts], \"o-\")"
   ]
  },
  {
   "cell_type": "markdown",
   "metadata": {},
   "source": [
    "By comparing the output from Cleaning_spacegroups.ipynb, we see that there are 5 new spacegroups that now have no instances. Also the number of instances of each of the spacegroups has dropped drastically. So some compositions clearly exist in multiple spacegroups and therefore just using compositions to mark unque entries is probably a bad idea. Let us import the mother datafile and see how many entries the newly empty spacegroups had originally."
   ]
  },
  {
   "cell_type": "code",
   "execution_count": 11,
   "metadata": {
    "collapsed": true
   },
   "outputs": [],
   "source": [
    "with open('ICSD/icsd-ternaries.csv','r') as f:\n",
    "            data=csv.reader(f,\"excel-tab\")\n",
    "            list_data=[[element.strip() for element in row] for row in data]\n",
    "for row in list_data:\n",
    "    row[1]=row[1].replace(' ','')\n",
    "list_space_old=[row[1].rstrip('Z').rstrip('S').rstrip(\"H\").rstrip('R') for row in list_data]"
   ]
  },
  {
   "cell_type": "code",
   "execution_count": 12,
   "metadata": {
    "collapsed": false
   },
   "outputs": [
    {
     "name": "stdout",
     "output_type": "stream",
     "text": [
      "Found Entries=68064, Not Found Entries=0\n",
      "Found No Entries for these spacegroups [[ 48  89  93 153 170 171 172 211]]\n"
     ]
    },
    {
     "data": {
      "text/plain": [
       "[<matplotlib.lines.Line2D at 0x11ab5cb50>]"
      ]
     },
     "execution_count": 12,
     "metadata": {},
     "output_type": "execute_result"
    },
    {
     "data": {
      "image/png": "[encoded data removed]",
      "text/plain": [
       "<matplotlib.figure.Figure at 0x11ab5cb90>"
      ]
     },
     "metadata": {},
     "output_type": "display_data"
    }
   ],
   "source": [
    "plt.figure(figsize = (8,5))\n",
    "list_nf_old=[]\n",
    "count_f_old=plt.array([0]*230)\n",
    "count_not_old=0\n",
    "for s in list_space_old:\n",
    "    if s in dict_space.keys():\n",
    "        #print \"Found Element in dictionary for space_group_name {0}, with space_group number {1}\".format(s,dict_space[s])\n",
    "        count_f_old[dict_space[s]-1]+=1\n",
    "    else:\n",
    "        #print \"Entry not found for space group name \",s\n",
    "        list_nf_old.append(s)\n",
    "print(\"Found Entries={0}, Not Found Entries={1}\".format(sum(count_f_old),len(list_space_old)-sum(count_f_old)))\n",
    "print(\"Found No Entries for these spacegroups\",plt.array(plt.where(count_f_old==0))+1)\n",
    "plt.xlabel(\"Space Group #\")\n",
    "plt.ylabel(\"Number of instances\")\n",
    "plt.title(\"Frequency distibution of data from New Data file based on unique coompositions\")\n",
    "plt.plot(plt.arange(230),count_f_old,'bo-')"
   ]
  },
  {
   "cell_type": "code",
   "execution_count": 13,
   "metadata": {
    "collapsed": false
   },
   "outputs": [
    {
     "name": "stdout",
     "output_type": "stream",
     "text": [
      "27 3\n",
      "48 0\n",
      "89 0\n",
      "93 0\n",
      "153 0\n",
      "170 0\n",
      "171 0\n",
      "172 0\n",
      "179 1\n",
      "184 5\n",
      "192 2\n",
      "207 1\n",
      "211 0\n"
     ]
    }
   ],
   "source": [
    "for a in [27,48,89,93,153,170,171,172,179,184,192,207,211]:\n",
    "    print(a,count_f_old[a-1])"
   ]
  },
  {
   "cell_type": "markdown",
   "metadata": {},
   "source": [
    "We see that the newly empty groups had very little data in the first place. But we definitely need to have more sophisticated methods for catching data duplication."
   ]
  },
  {
   "cell_type": "markdown",
   "metadata": {},
   "source": [
    "# Parsing Stoichiometry for every composition "
   ]
  },
  {
   "cell_type": "code",
   "execution_count": 14,
   "metadata": {
    "collapsed": true
   },
   "outputs": [],
   "source": [
    "from pymatgen.matproj.rest import MPRester\n"
   ]
  },
  {
   "cell_type": "code",
   "execution_count": 15,
   "metadata": {
    "collapsed": false
   },
   "outputs": [
    {
     "name": "stdout",
     "output_type": "stream",
     "text": [
      "Number of included elements = 103\n"
     ]
    }
   ],
   "source": [
    "def desired_element(elem):\n",
    "    omit = ['Po', 'At', 'Rn', 'Fr', 'Ra']\n",
    "    return not e.is_noble_gas and not e.is_actinoid and not e.symbol in omit\n",
    "#element_universe = [str(e) for e in Element if desired_element(e)]\n",
    "element_universe = [str(e) for e in Element]\n",
    "dict_element={}\n",
    "for i,j in enumerate(element_universe):\n",
    "    dict_element[str(j)]=i\n",
    "print(\"Number of included elements =\", len(element_universe))"
   ]
  },
  {
   "cell_type": "markdown",
   "metadata": {},
   "source": [
    "Some Compositions have Deutorium and Tritium. Right now I am creating new elements entry for D and T with array indices 103 and 104. We might want to map these to Hydrogen later. In that case the cell below would be:\n",
    "dict_element['D']=dict_element['H'].value()\n",
    "dict_element['T']=dict_element['H'].value()"
   ]
  },
  {
   "cell_type": "code",
   "execution_count": 16,
   "metadata": {
    "collapsed": true
   },
   "outputs": [],
   "source": [
    "dict_element['D']=103\n",
    "dict_element['T']=104"
   ]
  },
  {
   "cell_type": "code",
   "execution_count": 17,
   "metadata": {
    "collapsed": false
   },
   "outputs": [
    {
     "name": "stdout",
     "output_type": "stream",
     "text": [
      "['Ru', 'Re', 'Ra', 'Rb', 'Rn', 'Rh', 'Be', 'Ba', 'Bi', 'Bk', 'Br', 'D', 'H', 'P', 'T', 'Os', 'Hg', 'Ge', 'Gd', 'Ga', 'Pr', 'Pt', 'Pu', 'C', 'Pb', 'Pa', 'Pd', 'Xe', 'Po', 'Pm', 'Ho', 'Hf', 'Mo', 'He', 'Md', 'Mg', 'K', 'Mn', 'O', 'Zr', 'S', 'W', 'Zn', 'Eu', 'Es', 'Er', 'Ni', 'No', 'Na', 'Nb', 'Nd', 'Ne', 'Np', 'Fr', 'Fe', 'Fm', 'B', 'F', 'Sr', 'N', 'Kr', 'Si', 'Sn', 'Sm', 'V', 'Sc', 'Sb', 'Se', 'Co', 'Cm', 'Cl', 'Ca', 'Cf', 'Ce', 'Cd', 'Tm', 'Cs', 'Cr', 'Cu', 'La', 'Li', 'Tl', 'Lu', 'Lr', 'Th', 'Ti', 'Te', 'Tb', 'Tc', 'Ta', 'Yb', 'Dy', 'I', 'U', 'Y', 'Ac', 'Ag', 'Ir', 'Am', 'Al', 'As', 'Ar', 'Au', 'At', 'In']\n"
     ]
    }
   ],
   "source": [
    "print(dict_element.keys())"
   ]
  },
  {
   "cell_type": "code",
   "execution_count": 18,
   "metadata": {
    "collapsed": true
   },
   "outputs": [],
   "source": [
    "import numpy as np"
   ]
  },
  {
   "cell_type": "code",
   "execution_count": 19,
   "metadata": {
    "collapsed": false
   },
   "outputs": [],
   "source": [
    "stoich_array=np.zeros((len(list_data1),len(dict_element)),dtype=float)\n",
    "for index,entry in enumerate(list_data1):\n",
    "    comp=Composition(entry[2])\n",
    "    temp_dict=dict(comp.get_el_amt_dict())\n",
    "    #print(index,temp_dict.keys())\n",
    "    for key in temp_dict.keys():\n",
    "        if dict_element.has_key(key):\n",
    "            stoich_array[index][dict_element[key]]= temp_dict[key]\n",
    "        else:\n",
    "            print(\"For line_number {0}, we did not find element {1} in formula {2} in line with entry number {3}\".format(index,key,comp.formula,entry[0]))\n"
   ]
  },
  {
   "cell_type": "code",
   "execution_count": 20,
   "metadata": {
    "collapsed": false
   },
   "outputs": [
    {
     "name": "stdout",
     "output_type": "stream",
     "text": [
      "Entry Number  Element list           Number of occurances \n",
      "------------  --------------       ------------------------- \n",
      "0             ['Ag', 'Ge', 'Te']     [ 8.  1.  6.]\n",
      "1             ['O', 'Pb', 'W']       [ 4.  1.  1.]\n",
      "2             ['Mo', 'Pb', 'Se']     [ 3.   0.5  4. ]\n",
      "3             ['Br', 'Cu', 'Te']     [ 1.  1.  1.]\n",
      "4             ['Fe', 'I', 'O']       [ 1.  3.  9.]\n",
      "5             ['Cd', 'N', 'O']       [ 1.  2.  6.]\n",
      "6             ['Fe', 'S', 'Si']      [ 2.  4.  1.]\n",
      "7             ['Fe', 'Ge', 'S']      [ 2.  1.  4.]\n",
      "8             ['Ga', 'O', 'Ti']      [  3.46  48.    21.54]\n",
      "9             ['Ag', 'N', 'O']       [ 1.  1.  3.]\n",
      "10            ['Ga', 'Mn', 'Se']     [ 2.  1.  4.]\n",
      "11            ['Cr', 'P', 'S']       [ 1.  1.  4.]\n",
      "12            ['Ge', 'Pt', 'Se']     [ 1.  1.  1.]\n",
      "13            ['Cu', 'S', 'Sn']      [ 4.  4.  1.]\n",
      "14            ['Co', 'O', 'Si']      [ 2.  4.  1.]\n",
      "15            ['Cl', 'Mn', 'O']      [  3.   8.  10.]\n",
      "16            ['Ag', 'P', 'S']       [ 4.  2.  7.]\n",
      "17            ['C', 'O', 'Os']       [ 12.  12.   3.]\n",
      "18            ['N', 'Nb', 'O']       [ 1.  1.  1.]\n",
      "19            ['N', 'O', 'Ta']       [ 1.  1.  1.]\n"
     ]
    }
   ],
   "source": [
    "print(\"Entry Number  Element list           Number of occurances \")\n",
    "print(\"------------  --------------       ------------------------- \")\n",
    "dict_inverse = dict ( (v,k) for k, v in dict_element.items() )\n",
    "for i, entry in enumerate(stoich_array[0:20]):\n",
    "    nzentries=np.where(entry!=0)[0]\n",
    "    present_els=[dict_inverse[ent] for ent in nzentries]\n",
    "    print(\"{:<13} {:<22} {:<10}\".format(i,present_els,entry[nzentries]))"
   ]
  },
  {
   "cell_type": "markdown",
   "metadata": {},
   "source": [
    "Storing this array as a sparse csr matrix and outputting the first 10 entries just to show how the storage is done."
   ]
  },
  {
   "cell_type": "code",
   "execution_count": 26,
   "metadata": {
    "collapsed": false
   },
   "outputs": [
    {
     "name": "stdout",
     "output_type": "stream",
     "text": [
      "  (0, 1)\t8.0\n",
      "  (0, 35)\t1.0\n",
      "  (0, 90)\t6.0\n",
      "  (1, 62)\t4.0\n",
      "  (1, 66)\t1.0\n",
      "  (1, 97)\t1.0\n",
      "  (2, 53)\t3.0\n",
      "  (2, 66)\t0.5\n",
      "  (2, 82)\t4.0\n",
      "  (3, 13)\t1.0\n",
      "  (3, 24)\t1.0\n",
      "  (3, 90)\t1.0\n",
      "  (4, 30)\t1.0\n",
      "  (4, 41)\t3.0\n",
      "  (4, 62)\t9.0\n",
      "  (5, 16)\t1.0\n",
      "  (5, 54)\t2.0\n",
      "  (5, 62)\t6.0\n",
      "  (6, 30)\t2.0\n",
      "  (6, 79)\t4.0\n",
      "  (6, 83)\t1.0\n",
      "  (7, 30)\t2.0\n",
      "  (7, 35)\t1.0\n",
      "  (7, 79)\t4.0\n",
      "  (8, 33)\t3.46\n",
      "  (8, 62)\t48.0\n",
      "  (8, 92)\t21.54\n",
      "  (9, 1)\t1.0\n",
      "  (9, 54)\t1.0\n",
      "  (9, 62)\t3.0\n"
     ]
    }
   ],
   "source": [
    "import scipy.sparse \n",
    "sparse_stoich=scipy.sparse.csr_matrix(stoich_array)\n",
    "print(sparse_stoich[0:10])"
   ]
  },
  {
   "cell_type": "markdown",
   "metadata": {},
   "source": []
  }
 ],
 "metadata": {
  "kernelspec": {
   "display_name": "Python 2",
   "language": "python",
   "name": "python2"
  },
  "language_info": {
   "codemirror_mode": {
    "name": "ipython",
    "version": 2
   },
   "file_extension": ".py",
   "mimetype": "text/x-python",
   "name": "python",
   "nbconvert_exporter": "python",
   "pygments_lexer": "ipython2",
   "version": "2.7.11"
  }
 },
 "nbformat": 4,
 "nbformat_minor": 0
}
