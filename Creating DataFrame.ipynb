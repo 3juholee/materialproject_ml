{
 "cells": [
  {
   "cell_type": "markdown",
   "metadata": {},
   "source": [
    "# Creating DataFrame for Clustering "
   ]
  },
  {
   "cell_type": "markdown",
   "metadata": {},
   "source": [
    "Here we shall try to create a basic dataframe which we can pass to the Scikit-Learn clustering algorithms. Sklearn requires all the features to be stored in a 2-D array (numpy array/ scipy sparse matrix/pandas dataframe). The aim is to create a dataframe with similar structure to the sample datasets in sklearn. As this is unsupervised learning, we won't have a target data-structure but only a feature data structure, which we shall call 'Dataframe'."
   ]
  },
  {
   "cell_type": "code",
   "execution_count": 1,
   "metadata": {
    "collapsed": false
   },
   "outputs": [
    {
     "name": "stderr",
     "output_type": "stream",
     "text": [
      "/usr/local/lib/python2.7/site-packages/matplotlib/font_manager.py:273: UserWarning: Matplotlib is building the font cache using fc-list. This may take a moment.\n",
      "  warnings.warn('Matplotlib is building the font cache using fc-list. This may take a moment.')\n"
     ]
    }
   ],
   "source": [
    "import scipy.sparse\n",
    "import numpy as np\n",
    "import sklearn as skl\n",
    "import pylab as plt"
   ]
  },
  {
   "cell_type": "markdown",
   "metadata": {},
   "source": [
    "We read in the data from the Unique_ICSD.dat file (which should always contain the raw data after whatever filtering process we apply on the master icsd-ternaries.csv file). Dataframe will be of dimension (nsmaples $\\times$ nfeatures), where:\n",
    "\n",
    "    nsamples: Number of unique ternary compounds\n",
    "    \n",
    "    nfeatures:  columns 0:104: Number of atoms of element as defined by the dictionary dict_elements.\n",
    "                column  105: Space Group number\n",
    "                \n",
    "Dataframe will be a scipy csr sparse matrix as this feature space is by definition very sparse."
   ]
  },
  {
   "cell_type": "markdown",
   "metadata": {},
   "source": [
    "## Making an array of space group numbers"
   ]
  },
  {
   "cell_type": "code",
   "execution_count": 3,
   "metadata": {
    "collapsed": false
   },
   "outputs": [],
   "source": [
    "import csv\n",
    "with open('ICSD/Unique_ICSD.dat','r') as f:\n",
    "            data_1=csv.reader(f,\"excel-tab\")\n",
    "            list_data1=[[element.strip() for element in row] for row in data_1]\n",
    "for row1 in list_data1:\n",
    "    row1[1]=row1[1].replace(' ','')\n",
    "list_space=[row1[1].rstrip('Z').rstrip('S').rstrip(\"H\").rstrip('R') for row1 in list_data1]"
   ]
  },
  {
   "cell_type": "code",
   "execution_count": 4,
   "metadata": {
    "collapsed": true
   },
   "outputs": [],
   "source": [
    "with open(\"ICSD/spacegroups.dat\",'r') as f:\n",
    "    dat=csv.reader(f,dialect='excel-tab',quoting=csv.QUOTE_NONE)\n",
    "    list_dat=[element.strip() for row in dat for element in row ]\n",
    "    list1=[[int(list_dat[i*2]),list_dat[i*2+1]] for i in range(int(len(list_dat)/2))]\n",
    "dict_space={}\n",
    "for i in range(len(list1)):\n",
    "    dict_space[list1[i][1]]=list1[i][0]\n",
    "with open('ICSD/spacegroups_2.dat','r') as f1:\n",
    "        f=f1.readlines()\n",
    "        for line in f:\n",
    "            data2=[element.strip() for element in line.split()]\n",
    "            if data2[1] not in dict_space.keys():\n",
    "                dict_space[data2[1]]=int(data2[0])\n",
    "                \n",
    "with open('ICSD/spacegroups_3.dat','r') as f1:\n",
    "        f=f1.readlines()\n",
    "        for line in f:\n",
    "            data3=[element.strip() for element in line.split()]\n",
    "            if data3[0] not in dict_space.keys():\n",
    "                dict_space[data3[0]]=int(data3[1]) "
   ]
  },
  {
   "cell_type": "code",
   "execution_count": 5,
   "metadata": {
    "collapsed": true
   },
   "outputs": [],
   "source": [
    "space_num_array=np.zeros(len(list_space),dtype=float)\n",
    "for i,s in enumerate(list_space):    \n",
    "        space_num_array[i]=dict_space[s]\n",
    "    \n"
   ]
  },
  {
   "cell_type": "markdown",
   "metadata": {},
   "source": [
    "## Making an array storing element occurences "
   ]
  },
  {
   "cell_type": "code",
   "execution_count": 9,
   "metadata": {
    "collapsed": true
   },
   "outputs": [],
   "source": [
    "from pymatgen.matproj.rest import MPRester\n",
    "from pymatgen.core import Element, Composition\n"
   ]
  },
  {
   "cell_type": "code",
   "execution_count": 10,
   "metadata": {
    "collapsed": false
   },
   "outputs": [],
   "source": [
    "element_universe = [str(e) for e in Element]\n",
    "dict_element={}\n",
    "for i,j in enumerate(element_universe):\n",
    "    dict_element[str(j)]=i\n",
    "dict_element['D']=103\n",
    "dict_element['T']=104    "
   ]
  },
  {
   "cell_type": "code",
   "execution_count": 11,
   "metadata": {
    "collapsed": true
   },
   "outputs": [],
   "source": [
    "stoich_array=np.zeros((len(list_data1),len(dict_element)),dtype=float)\n",
    "for index,entry in enumerate(list_data1):\n",
    "    comp=Composition(entry[2])\n",
    "    temp_dict=dict(comp.get_el_amt_dict())\n",
    "    for key in temp_dict.keys():\n",
    "        stoich_array[index][dict_element[key]]= temp_dict[key]\n",
    "        "
   ]
  },
  {
   "cell_type": "markdown",
   "metadata": {},
   "source": [
    "## Combining these two features to form Dataframe"
   ]
  },
  {
   "cell_type": "code",
   "execution_count": 17,
   "metadata": {
    "collapsed": false
   },
   "outputs": [],
   "source": [
    "Dataframe=scipy.sparse.csr_matrix(np.hstack((stoich_array,space_num_array[:,np.newaxis])))"
   ]
  },
  {
   "cell_type": "code",
   "execution_count": 19,
   "metadata": {
    "collapsed": false
   },
   "outputs": [
    {
     "name": "stdout",
     "output_type": "stream",
     "text": [
      "  (0, 1)\t8.0\n",
      "  (0, 35)\t1.0\n",
      "  (0, 90)\t6.0\n",
      "  (0, 105)\t216.0\n",
      "  (1, 62)\t4.0\n",
      "  (1, 66)\t1.0\n",
      "  (1, 97)\t1.0\n",
      "  (1, 105)\t14.0\n",
      "  (2, 53)\t3.0\n",
      "  (2, 66)\t0.5\n",
      "  (2, 82)\t4.0\n",
      "  (2, 105)\t148.0\n"
     ]
    }
   ],
   "source": [
    "print(Dataframe[0:3])"
   ]
  },
  {
   "cell_type": "markdown",
   "metadata": {},
   "source": [
    "# Saving Dataframe using numpy save"
   ]
  },
  {
   "cell_type": "markdown",
   "metadata": {},
   "source": [
    "Using code taken from stackoverflow (http://stackoverflow.com/questions/8955448/save-load-scipy-sparse-csr-matrix-in-portable-data-format) to save the sparse matrix"
   ]
  },
  {
   "cell_type": "code",
   "execution_count": 20,
   "metadata": {
    "collapsed": true
   },
   "outputs": [],
   "source": [
    "def save_sparse_csr(filename,array):\n",
    "    np.savez(filename,data = array.data ,indices=array.indices,\n",
    "             indptr =array.indptr, shape=array.shape )\n"
   ]
  },
  {
   "cell_type": "code",
   "execution_count": 24,
   "metadata": {
    "collapsed": false
   },
   "outputs": [],
   "source": [
    "save_sparse_csr(\"Dataframe\",Dataframe)"
   ]
  },
  {
   "cell_type": "code",
   "execution_count": null,
   "metadata": {
    "collapsed": true
   },
   "outputs": [],
   "source": []
  }
 ],
 "metadata": {
  "kernelspec": {
   "display_name": "Python 2",
   "language": "python",
   "name": "python2"
  },
  "language_info": {
   "codemirror_mode": {
    "name": "ipython",
    "version": 2
   },
   "file_extension": ".py",
   "mimetype": "text/x-python",
   "name": "python",
   "nbconvert_exporter": "python",
   "pygments_lexer": "ipython2",
   "version": "2.7.11"
  }
 },
 "nbformat": 4,
 "nbformat_minor": 0
}
