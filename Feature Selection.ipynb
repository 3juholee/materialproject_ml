{
 "cells": [
  {
   "cell_type": "markdown",
   "metadata": {},
   "source": [
    "# List of tasks"
   ]
  },
  {
   "cell_type": "markdown",
   "metadata": {},
   "source": [
    "1) Cleaning data (non-integer stoichiometry mapped to parent compound)\n",
    "2) Select pertinent atomic data such as: \n",
    "    a)Ionic radii \n",
    "    b) Electronegativity\n",
    "    c)Oxidation states (most probable, use pymatgen pymatgen.analysis.bond_valence module)\n",
    "3) Figure out Aflowlib "
   ]
  },
  {
   "cell_type": "code",
   "execution_count": 1,
   "metadata": {
    "collapsed": true
   },
   "outputs": [],
   "source": [
    "from pymatgen import Element"
   ]
  },
  {
   "cell_type": "code",
   "execution_count": 2,
   "metadata": {
    "collapsed": true
   },
   "outputs": [],
   "source": [
    "Cu=Element('Cu')"
   ]
  },
  {
   "cell_type": "code",
   "execution_count": 3,
   "metadata": {
    "collapsed": false
   },
   "outputs": [
    {
     "data": {
      "text/plain": [
       "{u'Atomic mass': 63.546,\n",
       " u'Atomic no': 29,\n",
       " u'Atomic radius': 1.35,\n",
       " u'Atomic radius calculated': 1.45,\n",
       " u'Boiling point': u'3200 K',\n",
       " u'Brinell hardness': u'874 MN m<sup>-2</sup>',\n",
       " u'Bulk modulus': u'140 GPa',\n",
       " u'Coefficient of linear thermal expansion': u'16.5 x10<sup>-6</sup>K<sup>-1</sup>',\n",
       " u'Common oxidation states': [2],\n",
       " u'Critical temperature': u'no data K',\n",
       " u'Density of solid': u'8920 kg m<sup>-3</sup>',\n",
       " u'Electrical resistivity': u'1.72 10<sup>-8</sup> &Omega; m',\n",
       " u'Electronic structure': u'[Ar].3d<sup>10</sup>.4s<sup>1</sup>',\n",
       " u'Ionic radii': {u'1': 0.91, u'2': 0.87, u'3': 0.68},\n",
       " u'Liquid range': u'1842.23 K',\n",
       " u'Melting point': u'1357.77 K',\n",
       " u'Mendeleev no': 72,\n",
       " u'Mineral hardness': u'3.0',\n",
       " u'Molar volume': u'7.11 cm<sup>3</sup>',\n",
       " u'Name': u'Copper',\n",
       " u'Oxidation states': [1, 2, 3, 4],\n",
       " u'Poissons ratio': u'0.34',\n",
       " u'Reflectivity': u'90 %',\n",
       " u'Refractive index': u'no data',\n",
       " u'Rigidity modulus': u'48 GPa',\n",
       " u'Superconduction temperature': u'no data K',\n",
       " u'Thermal conductivity': u'400 W m<sup>-1</sup> K<sup>-1</sup>',\n",
       " u'Van der waals radius': 1.4,\n",
       " u'Velocity of sound': u'3570 m s<sup>-1</sup>',\n",
       " u'Vickers hardness': u'369 MN m<sup>-2</sup>',\n",
       " u'X': 1.9,\n",
       " u'Youngs modulus': u'130 GPa'}"
      ]
     },
     "execution_count": 3,
     "metadata": {},
     "output_type": "execute_result"
    }
   ],
   "source": [
    "Cu.data"
   ]
  },
  {
   "cell_type": "code",
   "execution_count": 4,
   "metadata": {
    "collapsed": false
   },
   "outputs": [
    {
     "data": {
      "text/plain": [
       "{u'Atomic mass': 15.9994,\n",
       " u'Atomic no': 8,\n",
       " u'Atomic radius': 0.6,\n",
       " u'Atomic radius calculated': 0.48,\n",
       " u'Boiling point': u'90.2 K',\n",
       " u'Brinell hardness': u'no data MN m<sup>-2</sup>',\n",
       " u'Bulk modulus': u'no data GPa',\n",
       " u'Coefficient of linear thermal expansion': u'no data x10<sup>-6</sup>K<sup>-1</sup>',\n",
       " u'Common oxidation states': [-2],\n",
       " u'Critical temperature': u'154.6 K',\n",
       " u'Density of solid': u'no data kg m<sup>-3</sup>',\n",
       " u'Electrical resistivity': u'no data 10<sup>-8</sup> &Omega; m',\n",
       " u'Electronic structure': u'[He].2s<sup>2</sup>.2p<sup>4</sup>',\n",
       " u'Ionic radii': {u'-2': 1.26},\n",
       " u'Liquid range': u'35.4 K',\n",
       " u'Melting point': u'54.8 K',\n",
       " u'Mendeleev no': 101,\n",
       " u'Mineral hardness': u'no data',\n",
       " u'Molar volume': u'17.36 cm<sup>3</sup>',\n",
       " u'Name': u'Oxygen',\n",
       " u'Oxidation states': [-2, -1, 1, 2],\n",
       " u'Poissons ratio': u'no data',\n",
       " u'Reflectivity': u'no data %',\n",
       " u'Refractive index': u'1.000271 (gas; liquid 1.221)(no units)',\n",
       " u'Rigidity modulus': u'no data GPa',\n",
       " u'Superconduction temperature': u'no data K',\n",
       " u'Thermal conductivity': u'0.02658 W m<sup>-1</sup> K<sup>-1</sup>',\n",
       " u'Van der waals radius': 1.52,\n",
       " u'Velocity of sound': u'317.5 m s<sup>-1</sup>',\n",
       " u'Vickers hardness': u'no data MN m<sup>-2</sup>',\n",
       " u'X': 3.44,\n",
       " u'Youngs modulus': u'no data GPa'}"
      ]
     },
     "execution_count": 4,
     "metadata": {},
     "output_type": "execute_result"
    }
   ],
   "source": [
    "Element('O').data"
   ]
  },
  {
   "cell_type": "code",
   "execution_count": null,
   "metadata": {
    "collapsed": true
   },
   "outputs": [],
   "source": []
  }
 ],
 "metadata": {
  "kernelspec": {
   "display_name": "Python 2",
   "language": "python",
   "name": "python2"
  },
  "language_info": {
   "codemirror_mode": {
    "name": "ipython",
    "version": 2
   },
   "file_extension": ".py",
   "mimetype": "text/x-python",
   "name": "python",
   "nbconvert_exporter": "python",
   "pygments_lexer": "ipython2",
   "version": "2.7.11"
  }
 },
 "nbformat": 4,
 "nbformat_minor": 0
}
