{
 "cells": [
  {
   "cell_type": "code",
   "execution_count": 1,
   "metadata": {
    "collapsed": true
   },
   "outputs": [],
   "source": [
    "import pymatgen as mg\n",
    "from pymatgen import Element, Composition\n",
    "import numpy as np\n",
    "import pickle\n",
    "import matplotlib.pyplot as plt\n",
    "%matplotlib inline"
   ]
  },
  {
   "cell_type": "code",
   "execution_count": 2,
   "metadata": {
    "collapsed": false
   },
   "outputs": [],
   "source": [
    "structs=pickle.load(open('struct_all.pickle', 'rb'))"
   ]
  },
  {
   "cell_type": "code",
   "execution_count": 3,
   "metadata": {
    "collapsed": false
   },
   "outputs": [],
   "source": [
    "valencies=pickle.load(open('val_all.pickle', 'rb'))"
   ]
  },
  {
   "cell_type": "code",
   "execution_count": 4,
   "metadata": {
    "collapsed": true
   },
   "outputs": [],
   "source": [
    "s1=structs[0].copy()\n"
   ]
  },
  {
   "cell_type": "code",
   "execution_count": 46,
   "metadata": {
    "collapsed": false
   },
   "outputs": [
    {
     "data": {
      "text/plain": [
       "[PeriodicSite: Nb (0.0000, 0.0000, 0.0000) [0.0000, 0.0000, 0.0000],\n",
       " PeriodicSite: Ag (2.0120, 2.0120, 2.0120) [0.5000, 0.5000, 0.5000],\n",
       " PeriodicSite: O (2.0120, 0.0000, 0.0000) [0.5000, 0.0000, 0.0000],\n",
       " PeriodicSite: O (-0.0000, 2.0120, 0.0000) [0.0000, 0.5000, 0.0000],\n",
       " PeriodicSite: O (0.0000, 0.0000, 2.0120) [0.0000, 0.0000, 0.5000]]"
      ]
     },
     "execution_count": 46,
     "metadata": {},
     "output_type": "execute_result"
    }
   ],
   "source": [
    "a=s1.sites\n",
    "\n",
    "#pts=s1.get_sites_in_sphere([,15)\n",
    "#s1.sites\n",
    "a"
   ]
  },
  {
   "cell_type": "code",
   "execution_count": 49,
   "metadata": {
    "collapsed": true
   },
   "outputs": [],
   "source": [
    "from collections import Counter"
   ]
  },
  {
   "cell_type": "code",
   "execution_count": 58,
   "metadata": {
    "collapsed": false
   },
   "outputs": [],
   "source": [
    "a=s1.sites\n",
    "b=a[0]"
   ]
  },
  {
   "cell_type": "code",
   "execution_count": 61,
   "metadata": {
    "collapsed": false
   },
   "outputs": [
    {
     "data": {
      "text/plain": [
       "Element Nb"
      ]
     },
     "execution_count": 61,
     "metadata": {},
     "output_type": "execute_result"
    }
   ],
   "source": [
    "b.specie"
   ]
  },
  {
   "cell_type": "code",
   "execution_count": 68,
   "metadata": {
    "collapsed": false
   },
   "outputs": [
    {
     "data": {
      "text/plain": [
       "1"
      ]
     },
     "execution_count": 68,
     "metadata": {},
     "output_type": "execute_result"
    }
   ],
   "source": [
    "a=['a','b','c']\n",
    "[a.index(entry) for entry in a if entry=='b'][0]"
   ]
  },
  {
   "cell_type": "code",
   "execution_count": 241,
   "metadata": {
    "collapsed": false
   },
   "outputs": [
    {
     "name": "stderr",
     "output_type": "stream",
     "text": [
      "/usr/local/lib/python2.7/site-packages/ipykernel/__main__.py:11: VisibleDeprecationWarning: using a non-integer number instead of an integer will result in an error in the future\n",
      "/usr/local/lib/python2.7/site-packages/ipykernel/__main__.py:28: VisibleDeprecationWarning: using a non-integer number instead of an integer will result in an error in the future\n",
      "/usr/local/lib/python2.7/site-packages/ipykernel/__main__.py:31: VisibleDeprecationWarning: using a non-integer number instead of an integer will result in an error in the future\n"
     ]
    },
    {
     "data": {
      "text/plain": [
       "[<matplotlib.lines.Line2D at 0x19ad96290>]"
      ]
     },
     "execution_count": 241,
     "metadata": {},
     "output_type": "execute_result"
    },
    {
     "data": {
      "image/png": "[encoded data removed]",
      "text/plain": [
       "<matplotlib.figure.Figure at 0x152b2cc10>"
      ]
     },
     "metadata": {},
     "output_type": "display_data"
    }
   ],
   "source": [
    "s1=structs[0].copy()\n",
    "spec=s1.species\n",
    "rmax=15\n",
    "delta=0.01\n",
    "Kernsize=6\n",
    "sig=0.01\n",
    "n_bins=rmax/delta\n",
    "plot_max=n_bins-1\n",
    "count=Counter(spec)\n",
    "els=[a.name for a in count.keys()]\n",
    "finger=np.zeros((9,n_bins+Kernsize),dtype=float)\n",
    "vol=s1.volume\n",
    "prefac=1.0/(np.sqrt(2*np.pi*sig*sig))\n",
    "kern=np.array([prefac*(np.exp(-(i*delta)*(i*delta)/(2*sig*sig))) for i in range(-1*Kernsize,Kernsize+1)])\n",
    "for i,s in enumerate(spec):\n",
    "    ind1=[els.index(entry) for entry in els if entry==s.name][0]\n",
    "    N_i=count[s]\n",
    "    #print N_i,i,s\n",
    "    list_at=s1.get_sites_in_sphere(s1.sites[i].coords,rmax)\n",
    "    dists=np.array([entry[-1] for entry in list_at if entry[-1]>0.1])\n",
    "    names=[entry[0].specie for entry in list_at if entry[-1]>0.1]\n",
    "    count2=Counter(names)\n",
    "    for j,dist in enumerate(dists):\n",
    "        N_j=count2[names[j]]\n",
    "        ind2=[els.index(entry) for entry in els if entry==names[j].name][0]\n",
    "        if (ind2>=ind1):\n",
    "            poin=np.floor(dist/delta)\n",
    "            finger[ind1*3+ind2][poin-Kernsize:poin+Kernsize+1]+=((vol)/(4*np.pi*dist*dist*N_i*N_j*delta))*kern\n",
    "fing_sum=finger[0]+finger[1]+finger[2]+finger[4]+finger[5]+finger[8]-6    \n",
    "plt.figure(figsize=(10,5))\n",
    "plt.plot(fing_sum[0:n_bins-1])        \n",
    "    \n",
    "    \n",
    "    "
   ]
  },
  {
   "cell_type": "code",
   "execution_count": 225,
   "metadata": {
    "collapsed": false
   },
   "outputs": [
    {
     "data": {
      "text/plain": [
       "array([  2.76535477e-48,   2.34759768e-33,   3.84729931e-21,\n",
       "         1.21716027e-11,   7.43359757e-05,   8.76415025e-01,\n",
       "         1.99471140e+01,   8.76415025e-01,   7.43359757e-05,\n",
       "         1.21716027e-11,   3.84729931e-21,   2.34759768e-33,\n",
       "         2.76535477e-48])"
      ]
     },
     "execution_count": 225,
     "metadata": {},
     "output_type": "execute_result"
    },
    {
     "data": {
      "image/png": "[encoded data removed]",
      "text/plain": [
       "<matplotlib.figure.Figure at 0x15640ca90>"
      ]
     },
     "metadata": {},
     "output_type": "display_data"
    }
   ],
   "source": [
    "plt.plot(kern)\n",
    "kern"
   ]
  },
  {
   "cell_type": "code",
   "execution_count": null,
   "metadata": {
    "collapsed": true
   },
   "outputs": [],
   "source": []
  }
 ],
 "metadata": {
  "kernelspec": {
   "display_name": "Python 2",
   "language": "python",
   "name": "python2"
  },
  "language_info": {
   "codemirror_mode": {
    "name": "ipython",
    "version": 2
   },
   "file_extension": ".py",
   "mimetype": "text/x-python",
   "name": "python",
   "nbconvert_exporter": "python",
   "pygments_lexer": "ipython2",
   "version": "2.7.11"
  }
 },
 "nbformat": 4,
 "nbformat_minor": 0
}
