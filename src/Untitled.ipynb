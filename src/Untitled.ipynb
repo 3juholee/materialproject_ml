{
 "cells": [
  {
   "cell_type": "code",
   "execution_count": 1,
   "metadata": {
    "collapsed": false
   },
   "outputs": [],
   "source": [
    "from pymatgen import Element,Composition"
   ]
  },
  {
   "cell_type": "code",
   "execution_count": 2,
   "metadata": {
    "collapsed": true
   },
   "outputs": [],
   "source": [
    "comp=Composition(\"Pb1 W1 O4\")"
   ]
  },
  {
   "cell_type": "code",
   "execution_count": 3,
   "metadata": {
    "collapsed": true
   },
   "outputs": [],
   "source": [
    "temp_dict = dict(comp.get_el_amt_dict())"
   ]
  },
  {
   "cell_type": "code",
   "execution_count": 4,
   "metadata": {
    "collapsed": false
   },
   "outputs": [],
   "source": [
    "lis=[[a*i for a in Element(E).common_oxidation_states] for E,i in temp_dict.items()]"
   ]
  },
  {
   "cell_type": "code",
   "execution_count": 26,
   "metadata": {
    "collapsed": false
   },
   "outputs": [
    {
     "data": {
      "text/plain": [
       "[[2.0, 4.0], [-8.0], [4.0, 6.0]]"
      ]
     },
     "execution_count": 26,
     "metadata": {},
     "output_type": "execute_result"
    }
   ],
   "source": [
    "lis"
   ]
  },
  {
   "cell_type": "code",
   "execution_count": 5,
   "metadata": {
    "collapsed": false
   },
   "outputs": [],
   "source": [
    "a,b,c=len(lis[0]),len(lis[1]),len(lis[2])"
   ]
  },
  {
   "cell_type": "code",
   "execution_count": 50,
   "metadata": {
    "collapsed": false
   },
   "outputs": [
    {
     "data": {
      "text/plain": [
       "(2, 1, 2)"
      ]
     },
     "execution_count": 50,
     "metadata": {},
     "output_type": "execute_result"
    }
   ],
   "source": [
    "a,b,c"
   ]
  },
  {
   "cell_type": "code",
   "execution_count": 53,
   "metadata": {
    "collapsed": true
   },
   "outputs": [],
   "source": [
    "lis_ox=[[a for a in Element(E).common_oxidation_states] for E,i in temp_dict.items()]"
   ]
  },
  {
   "cell_type": "code",
   "execution_count": 54,
   "metadata": {
    "collapsed": false
   },
   "outputs": [
    {
     "data": {
      "text/plain": [
       "[[2, 4], [-2], [4, 6]]"
      ]
     },
     "execution_count": 54,
     "metadata": {},
     "output_type": "execute_result"
    }
   ],
   "source": [
    "lis_ox"
   ]
  },
  {
   "cell_type": "code",
   "execution_count": 59,
   "metadata": {
    "collapsed": true
   },
   "outputs": [],
   "source": [
    "comp=\"balalala\""
   ]
  },
  {
   "cell_type": "code",
   "execution_count": 93,
   "metadata": {
    "collapsed": false
   },
   "outputs": [
    {
     "name": "stdout",
     "output_type": "stream",
     "text": [
      "0\n"
     ]
    },
    {
     "ename": "IndexError",
     "evalue": "index 1 is out of bounds for axis 0 with size 1",
     "output_type": "error",
     "traceback": [
      "\u001b[0;31m---------------------------------------------------------------------------\u001b[0m",
      "\u001b[0;31mIndexError\u001b[0m                                Traceback (most recent call last)",
      "\u001b[0;32m<ipython-input-93-57689b97b13b>\u001b[0m in \u001b[0;36m<module>\u001b[0;34m()\u001b[0m\n\u001b[1;32m     30\u001b[0m         \u001b[0mcnt\u001b[0m\u001b[0;34m+=\u001b[0m\u001b[0;36m1\u001b[0m\u001b[0;34m\u001b[0m\u001b[0m\n\u001b[1;32m     31\u001b[0m         \u001b[0;31m#print \"{} possibilities found for composition {}\".format(len(where),entry)\u001b[0m\u001b[0;34m\u001b[0m\u001b[0;34m\u001b[0m\u001b[0m\n\u001b[0;32m---> 32\u001b[0;31m         \u001b[0moxid_array\u001b[0m\u001b[0;34m[\u001b[0m\u001b[0mindex\u001b[0m\u001b[0;34m,\u001b[0m\u001b[0;34m:\u001b[0m\u001b[0;34m]\u001b[0m\u001b[0;34m=\u001b[0m\u001b[0;34m[\u001b[0m\u001b[0mlis_ox\u001b[0m\u001b[0;34m[\u001b[0m\u001b[0;36m0\u001b[0m\u001b[0;34m]\u001b[0m\u001b[0;34m[\u001b[0m\u001b[0mwhere\u001b[0m\u001b[0;34m[\u001b[0m\u001b[0;36m0\u001b[0m\u001b[0;34m]\u001b[0m\u001b[0;34m[\u001b[0m\u001b[0;36m0\u001b[0m\u001b[0;34m]\u001b[0m\u001b[0;34m]\u001b[0m\u001b[0;34m,\u001b[0m\u001b[0mlis_ox\u001b[0m\u001b[0;34m[\u001b[0m\u001b[0;36m1\u001b[0m\u001b[0;34m]\u001b[0m\u001b[0;34m[\u001b[0m\u001b[0mnp\u001b[0m\u001b[0;34m.\u001b[0m\u001b[0mmod\u001b[0m\u001b[0;34m(\u001b[0m\u001b[0mwhere\u001b[0m\u001b[0;34m[\u001b[0m\u001b[0;36m0\u001b[0m\u001b[0;34m]\u001b[0m\u001b[0;34m[\u001b[0m\u001b[0;36m1\u001b[0m\u001b[0;34m]\u001b[0m\u001b[0;34m,\u001b[0m\u001b[0mb\u001b[0m\u001b[0;34m)\u001b[0m\u001b[0;34m]\u001b[0m\u001b[0;34m,\u001b[0m\u001b[0mlis_ox\u001b[0m\u001b[0;34m[\u001b[0m\u001b[0;36m2\u001b[0m\u001b[0;34m]\u001b[0m\u001b[0;34m[\u001b[0m\u001b[0mwhere\u001b[0m\u001b[0;34m[\u001b[0m\u001b[0;36m0\u001b[0m\u001b[0;34m]\u001b[0m\u001b[0;34m[\u001b[0m\u001b[0;36m1\u001b[0m\u001b[0;34m]\u001b[0m\u001b[0;34m-\u001b[0m\u001b[0mnp\u001b[0m\u001b[0;34m.\u001b[0m\u001b[0mmod\u001b[0m\u001b[0;34m(\u001b[0m\u001b[0mwh\u001b[0m\u001b[0;34m[\u001b[0m\u001b[0;36m1\u001b[0m\u001b[0;34m]\u001b[0m\u001b[0;34m,\u001b[0m\u001b[0mb\u001b[0m\u001b[0;34m)\u001b[0m\u001b[0;34m*\u001b[0m\u001b[0mb\u001b[0m\u001b[0;34m]\u001b[0m\u001b[0;34m]\u001b[0m\u001b[0;34m\u001b[0m\u001b[0m\n\u001b[0m\u001b[1;32m     33\u001b[0m         \u001b[0moxid_array2\u001b[0m\u001b[0;34m[\u001b[0m\u001b[0mindex\u001b[0m\u001b[0;34m,\u001b[0m\u001b[0;34m:\u001b[0m\u001b[0;34m]\u001b[0m\u001b[0;34m=\u001b[0m\u001b[0;34m[\u001b[0m\u001b[0;34m[\u001b[0m\u001b[0mlis_ox\u001b[0m\u001b[0;34m[\u001b[0m\u001b[0;36m0\u001b[0m\u001b[0;34m]\u001b[0m\u001b[0;34m[\u001b[0m\u001b[0mwhere\u001b[0m\u001b[0;34m[\u001b[0m\u001b[0;36m1\u001b[0m\u001b[0;34m]\u001b[0m\u001b[0;34m[\u001b[0m\u001b[0;36m0\u001b[0m\u001b[0;34m]\u001b[0m\u001b[0;34m]\u001b[0m\u001b[0;34m,\u001b[0m\u001b[0mlis_ox\u001b[0m\u001b[0;34m[\u001b[0m\u001b[0;36m1\u001b[0m\u001b[0;34m]\u001b[0m\u001b[0;34m[\u001b[0m\u001b[0mnp\u001b[0m\u001b[0;34m.\u001b[0m\u001b[0mmod\u001b[0m\u001b[0;34m(\u001b[0m\u001b[0mwhere\u001b[0m\u001b[0;34m[\u001b[0m\u001b[0;36m1\u001b[0m\u001b[0;34m]\u001b[0m\u001b[0;34m[\u001b[0m\u001b[0;36m1\u001b[0m\u001b[0;34m]\u001b[0m\u001b[0;34m,\u001b[0m\u001b[0mb\u001b[0m\u001b[0;34m)\u001b[0m\u001b[0;34m]\u001b[0m\u001b[0;34m,\u001b[0m\u001b[0mlis_ox\u001b[0m\u001b[0;34m[\u001b[0m\u001b[0;36m2\u001b[0m\u001b[0;34m]\u001b[0m\u001b[0;34m[\u001b[0m\u001b[0mwhere\u001b[0m\u001b[0;34m[\u001b[0m\u001b[0;36m1\u001b[0m\u001b[0;34m]\u001b[0m\u001b[0;34m[\u001b[0m\u001b[0;36m1\u001b[0m\u001b[0;34m]\u001b[0m\u001b[0;34m-\u001b[0m\u001b[0mnp\u001b[0m\u001b[0;34m.\u001b[0m\u001b[0mmod\u001b[0m\u001b[0;34m(\u001b[0m\u001b[0mwh\u001b[0m\u001b[0;34m[\u001b[0m\u001b[0;36m1\u001b[0m\u001b[0;34m]\u001b[0m\u001b[0;34m,\u001b[0m\u001b[0mb\u001b[0m\u001b[0;34m)\u001b[0m\u001b[0;34m*\u001b[0m\u001b[0mb\u001b[0m\u001b[0;34m]\u001b[0m\u001b[0;34m]\u001b[0m\u001b[0;34m]\u001b[0m\u001b[0;34m\u001b[0m\u001b[0m\n\u001b[1;32m     34\u001b[0m         \u001b[0;31m#oxid_array[index,:]=[-99]*3\u001b[0m\u001b[0;34m\u001b[0m\u001b[0;34m\u001b[0m\u001b[0m\n",
      "\u001b[0;31mIndexError\u001b[0m: index 1 is out of bounds for axis 0 with size 1"
     ]
    }
   ],
   "source": [
    "import numpy as np\n",
    "import pandas as pd\n",
    "dt=pd.read_csv(\"Dataframe.csv\",sep='\\t',index_col=0)\n",
    "comps=dt[\"Composition\"]\n",
    "blabla=len(comps)\n",
    "blabla-5000\n",
    "cnt=0\n",
    "oxid_array=np.zeros((blabla,3),dtype=int)\n",
    "oxid_array2=np.zeros((blabla,3),dtype=int)\n",
    "for index,entry in enumerate(comps[0:blabla].values):    \n",
    "    print index\n",
    "    comp=Composition(entry)\n",
    "    temp_dict = dict(comp.get_el_amt_dict())\n",
    "    lis=[[a*i for a in Element(E).common_oxidation_states] for E,i in temp_dict.items()]\n",
    "    lis_ox=[[a for a in Element(E).common_oxidation_states] for E,i in temp_dict.items()]\n",
    "    a,b,c=len(lis[0]),len(lis[1]),len(lis[2]) \n",
    "    dat1=np.ones((a,b*c),dtype=int)\n",
    "    dat2=np.ones((a,b*c),dtype=int)\n",
    "    dat3=np.ones((a,b*c),dtype=int)\n",
    "    for i in range(a):\n",
    "        dat1[i,:]=lis[0][i]\n",
    "    for i in range(b):\n",
    "        for j in range(c):\n",
    "            dat2[:,i*c+j]=lis[1][i]\n",
    "            dat3[:,i*c+j]=lis[2][j]\n",
    "    where=list(np.where(dat1+dat2+dat3==0))\n",
    "    if len(where)==1:\n",
    "        oxid_array[index,:]=[[lis_ox[0][wh[0]],lis_ox[1][np.mod(wh[1],b)],lis_ox[2][wh[1]-np.mod(wh[1],b)*b]] for wh in where]    \n",
    "    else:\n",
    "        cnt+=1\n",
    "        #print \"{} possibilities found for composition {}\".format(len(where),entry)\n",
    "        oxid_array[index,:]=[lis_ox[0][where[0][0]],lis_ox[1][np.mod(where[0][1],b)],lis_ox[2][where[0][1]-np.mod(wh[1],b)*b]]\n",
    "        oxid_array2[index,:]=[[lis_ox[0][where[1][0]],lis_ox[1][np.mod(where[1][1],b)],lis_ox[2][where[1][1]-np.mod(wh[1],b)*b]]]\n",
    "        #oxid_array[index,:]=[-99]*3\n",
    "        \n",
    "        #print oxid_array[index,:]\n",
    "    print index,cnt\n",
    "print cnt"
   ]
  },
  {
   "cell_type": "code",
   "execution_count": 63,
   "metadata": {
    "collapsed": false
   },
   "outputs": [],
   "source": [
    "import numpy as np\n",
    "import pandas as pd\n",
    "dat1=np.ones((a,b*c),dtype=int)\n",
    "dat2=np.ones((a,b*c),dtype=int)\n",
    "dat3=np.ones((a,b*c),dtype=int)\n",
    "dt=pd.read_csv(\"Dataframe.csv\",sep='\\t',index_col=0)\n",
    "comps=dt[\"Composition\"]"
   ]
  },
  {
   "cell_type": "code",
   "execution_count": 64,
   "metadata": {
    "collapsed": false
   },
   "outputs": [
    {
     "data": {
      "text/plain": [
       "0          Ag8 Ge1 Te6\n",
       "1            Pb1 W1 O4\n",
       "2          Cu1 Te1 Br1\n",
       "3            Fe1 I3 O9\n",
       "4            Cd1 N2 O6\n",
       "5           Fe2 Si1 S4\n",
       "6           Fe2 Ge1 S4\n",
       "7            Ag1 N1 O3\n",
       "8          Mn1 Ga2 Se4\n",
       "9            Cr1 P1 S4\n",
       "10         Ge1 Pt1 Se1\n",
       "11          Cu4 Sn1 S4\n",
       "12          Co2 Si1 O4\n",
       "13         Mn8 Cl3 O10\n",
       "14           Ag4 P2 S7\n",
       "15         Os3 C12 O12\n",
       "16           Nb1 N1 O1\n",
       "17           Ta1 N1 O1\n",
       "18          Si1 Ag8 S6\n",
       "19          Nb2 Pb1 O6\n",
       "20          Cr2 P6 O18\n",
       "21           Cu3 P2 O8\n",
       "22         Ru3 C12 O12\n",
       "23          Cu5 P2 O10\n",
       "24          Si2 Ag6 O7\n",
       "25          Fe2 Sn1 S4\n",
       "26          Hg6 Cl4 O4\n",
       "27           Cd1 I2 O6\n",
       "28          Zn4 P6 S18\n",
       "29           Ag3 P1 O4\n",
       "             ...      \n",
       "26109      Ba5 In4 Sb6\n",
       "26110      La1 Ga2 Rh3\n",
       "26111    Ca21 Zn4 As18\n",
       "26112    Ca21 Zn4 Sb18\n",
       "26113    Eu21 Zn4 As18\n",
       "26114    Eu21 Zn4 Sb18\n",
       "26115      Sc5 In4 Co2\n",
       "26116       Al1 Cr4 B6\n",
       "26117        Al1 B1 W1\n",
       "26118       Sr1 Al1 H3\n",
       "26119        Al2 V3 H2\n",
       "26120      Sr1 Ga2 Rh2\n",
       "26121      Sr3 Ga4 Ir4\n",
       "26122      Ce2 Al1 Ru2\n",
       "26123      La1 Al8 Fe2\n",
       "26124       Mg1 Zr2 H6\n",
       "26125       Mg1 Nb2 H6\n",
       "26126      Ba1 In9 Ir2\n",
       "26127       Ce2 Bi1 N1\n",
       "26128       Pr2 Bi1 N1\n",
       "26129       Nd2 Bi1 N1\n",
       "26130       La2 Bi1 N1\n",
       "26131      Sm1 Mg2 Bi2\n",
       "26132      Sm1 Mg2 Sb2\n",
       "26133       D4 Cs1 Al1\n",
       "26134      Tb2 Mg1 Co9\n",
       "26135      Tb1 Mg1 Co4\n",
       "26136      K11 Cd2 Sb5\n",
       "26137      Cs3 B13 H16\n",
       "26138      Th1 Al20 V2\n",
       "Name: Composition, dtype: object"
      ]
     },
     "execution_count": 64,
     "metadata": {},
     "output_type": "execute_result"
    }
   ],
   "source": [
    "comps"
   ]
  },
  {
   "cell_type": "code",
   "execution_count": 72,
   "metadata": {
    "collapsed": false
   },
   "outputs": [
    {
     "name": "stdout",
     "output_type": "stream",
     "text": [
      "0 Ag8 Ge1 Te6\n",
      "1 Pb1 W1 O4\n",
      "2 Cu1 Te1 Br1\n",
      "3 Fe1 I3 O9\n",
      "4 Cd1 N2 O6\n",
      "5 Fe2 Si1 S4\n",
      "6 Fe2 Ge1 S4\n",
      "7 Ag1 N1 O3\n",
      "8 Mn1 Ga2 Se4\n",
      "9 Cr1 P1 S4\n"
     ]
    }
   ],
   "source": [
    "for i,j in enumerate(comps[0:10].values.astype(str)):\n",
    "    print i,j"
   ]
  },
  {
   "cell_type": "code",
   "execution_count": null,
   "metadata": {
    "collapsed": true
   },
   "outputs": [],
   "source": []
  }
 ],
 "metadata": {
  "kernelspec": {
   "display_name": "Python 2",
   "language": "python",
   "name": "python2"
  },
  "language_info": {
   "codemirror_mode": {
    "name": "ipython",
    "version": 2
   },
   "file_extension": ".py",
   "mimetype": "text/x-python",
   "name": "python",
   "nbconvert_exporter": "python",
   "pygments_lexer": "ipython2",
   "version": "2.7.11"
  }
 },
 "nbformat": 4,
 "nbformat_minor": 0
}
