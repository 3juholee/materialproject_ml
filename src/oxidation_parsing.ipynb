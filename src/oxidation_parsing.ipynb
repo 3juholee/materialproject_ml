{
 "cells": [
  {
   "cell_type": "code",
   "execution_count": 2,
   "metadata": {
    "collapsed": false,
    "scrolled": true
   },
   "outputs": [
    {
     "name": "stderr",
     "output_type": "stream",
     "text": [
      "/usr/local/lib/python2.7/site-packages/matplotlib/font_manager.py:273: UserWarning: Matplotlib is building the font cache using fc-list. This may take a moment.\n",
      "  warnings.warn('Matplotlib is building the font cache using fc-list. This may take a moment.')\n"
     ]
    }
   ],
   "source": [
    "import pymatgen_pars as pymt\n",
    "import numpy as np\n",
    "import matplotlib.pyplot as plt\n",
    "import pymatgen.analysis.bond_valence as bv\n",
    "from collections import Counter"
   ]
  },
  {
   "cell_type": "code",
   "execution_count": 3,
   "metadata": {
    "collapsed": true
   },
   "outputs": [],
   "source": [
    "st=pymt.read_unique_data(\"unique_data.json\")"
   ]
  },
  {
   "cell_type": "code",
   "execution_count": 5,
   "metadata": {
    "collapsed": false
   },
   "outputs": [],
   "source": [
    "import tqdm"
   ]
  },
  {
   "cell_type": "code",
   "execution_count": 6,
   "metadata": {
    "collapsed": true
   },
   "outputs": [],
   "source": [
    "st_masked=[i for i in st if np.all([a in bv.BV_PARAMS for a in i.composition.elements])]"
   ]
  },
  {
   "cell_type": "code",
   "execution_count": 7,
   "metadata": {
    "collapsed": true
   },
   "outputs": [],
   "source": [
    "BV=bv.BVAnalyzer()"
   ]
  },
  {
   "cell_type": "code",
   "execution_count": 12,
   "metadata": {
    "collapsed": false,
    "scrolled": true
   },
   "outputs": [
    {
     "data": {
      "text/plain": [
       "Counter({3: 299,\n",
       "         4: 2399,\n",
       "         5: 1519,\n",
       "         6: 820,\n",
       "         7: 349,\n",
       "         8: 888,\n",
       "         9: 541,\n",
       "         10: 852,\n",
       "         11: 276,\n",
       "         12: 1227,\n",
       "         13: 338,\n",
       "         14: 1069,\n",
       "         15: 165,\n",
       "         16: 683,\n",
       "         17: 123,\n",
       "         18: 802,\n",
       "         19: 107,\n",
       "         20: 1094,\n",
       "         21: 102,\n",
       "         22: 758,\n",
       "         23: 72,\n",
       "         24: 979,\n",
       "         25: 52,\n",
       "         26: 316,\n",
       "         27: 101,\n",
       "         28: 973,\n",
       "         29: 147,\n",
       "         30: 451,\n",
       "         31: 22,\n",
       "         32: 485,\n",
       "         33: 65,\n",
       "         34: 197,\n",
       "         35: 27,\n",
       "         36: 593,\n",
       "         37: 31,\n",
       "         38: 174,\n",
       "         39: 52,\n",
       "         40: 528,\n",
       "         41: 42,\n",
       "         42: 232,\n",
       "         43: 37,\n",
       "         44: 345,\n",
       "         45: 35,\n",
       "         46: 123,\n",
       "         47: 14,\n",
       "         48: 291,\n",
       "         49: 32,\n",
       "         50: 60,\n",
       "         51: 18,\n",
       "         52: 219,\n",
       "         53: 9,\n",
       "         54: 99,\n",
       "         55: 15,\n",
       "         56: 325,\n",
       "         57: 21,\n",
       "         58: 49,\n",
       "         59: 13,\n",
       "         60: 191,\n",
       "         61: 7,\n",
       "         62: 38,\n",
       "         63: 13,\n",
       "         64: 178,\n",
       "         65: 17,\n",
       "         66: 53,\n",
       "         67: 11,\n",
       "         68: 225,\n",
       "         69: 19,\n",
       "         70: 71,\n",
       "         71: 5,\n",
       "         72: 210,\n",
       "         73: 7,\n",
       "         74: 21,\n",
       "         75: 12,\n",
       "         76: 94,\n",
       "         77: 15,\n",
       "         78: 46,\n",
       "         79: 14,\n",
       "         80: 197,\n",
       "         81: 13,\n",
       "         82: 17,\n",
       "         83: 11,\n",
       "         84: 91,\n",
       "         85: 4,\n",
       "         86: 25,\n",
       "         87: 8,\n",
       "         88: 122,\n",
       "         89: 11,\n",
       "         90: 30,\n",
       "         91: 6,\n",
       "         92: 26,\n",
       "         93: 4,\n",
       "         94: 17,\n",
       "         95: 8,\n",
       "         96: 69,\n",
       "         97: 5,\n",
       "         98: 16,\n",
       "         99: 5,\n",
       "         100: 27,\n",
       "         101: 2,\n",
       "         102: 6,\n",
       "         104: 48,\n",
       "         106: 6,\n",
       "         107: 3,\n",
       "         108: 30,\n",
       "         109: 2,\n",
       "         110: 8,\n",
       "         111: 1,\n",
       "         112: 30,\n",
       "         113: 1,\n",
       "         114: 9,\n",
       "         116: 16,\n",
       "         117: 3,\n",
       "         118: 3,\n",
       "         120: 20,\n",
       "         122: 1,\n",
       "         123: 2,\n",
       "         124: 12,\n",
       "         125: 2,\n",
       "         126: 10,\n",
       "         127: 1,\n",
       "         128: 16,\n",
       "         129: 1,\n",
       "         130: 2,\n",
       "         132: 16,\n",
       "         133: 1,\n",
       "         135: 1,\n",
       "         136: 19,\n",
       "         138: 4,\n",
       "         139: 1,\n",
       "         140: 12,\n",
       "         142: 1,\n",
       "         144: 21,\n",
       "         145: 1,\n",
       "         146: 2,\n",
       "         148: 6,\n",
       "         150: 3,\n",
       "         152: 9,\n",
       "         153: 1,\n",
       "         154: 4,\n",
       "         156: 8,\n",
       "         160: 21,\n",
       "         162: 2,\n",
       "         164: 6,\n",
       "         166: 1,\n",
       "         168: 12,\n",
       "         171: 1,\n",
       "         172: 5,\n",
       "         174: 3,\n",
       "         176: 9,\n",
       "         177: 1,\n",
       "         178: 3,\n",
       "         180: 3,\n",
       "         182: 4,\n",
       "         184: 5,\n",
       "         186: 2,\n",
       "         188: 2,\n",
       "         192: 7,\n",
       "         195: 2,\n",
       "         198: 3,\n",
       "         200: 2,\n",
       "         208: 2,\n",
       "         240: 1,\n",
       "         264: 3})"
      ]
     },
     "execution_count": 12,
     "metadata": {},
     "output_type": "execute_result"
    }
   ],
   "source": [
    "len_species=[len(a.species) for a in st_masked]\n",
    "spec=[]\n",
    "Counter(len_species)"
   ]
  },
  {
   "cell_type": "code",
   "execution_count": 9,
   "metadata": {
    "collapsed": false
   },
   "outputs": [
    {
     "name": "stdout",
     "output_type": "stream",
     "text": [
      "20827\n"
     ]
    }
   ],
   "source": [
    "st_lt50=[i for i in st_masked if len(i.species)<50]\n",
    "print len(st_lt50)"
   ]
  },
  {
   "cell_type": "code",
   "execution_count": 29,
   "metadata": {
    "collapsed": false
   },
   "outputs": [
    {
     "name": "stderr",
     "output_type": "stream",
     "text": [
      "100%|██████████| 5000/5000 [10:08<00:00,  8.22it/s]\n"
     ]
    },
    {
     "data": {
      "text/plain": [
       "Counter({2: 661, 3: 2775, 4: 347, 5: 9})"
      ]
     },
     "execution_count": 29,
     "metadata": {},
     "output_type": "execute_result"
    }
   ],
   "source": [
    "valency_types=[]\n",
    "for i in tqdm.tqdm(st_lt50[5000:10000]):\n",
    "    try:\n",
    "        valency_types.append(len(set(BV.get_valences(i))))\n",
    "    except:\n",
    "        pass\n",
    "Counter(valency_types)"
   ]
  },
  {
   "cell_type": "code",
   "execution_count": 33,
   "metadata": {
    "collapsed": false
   },
   "outputs": [
    {
     "name": "stdout",
     "output_type": "stream",
     "text": [
      "\n"
     ]
    },
    {
     "data": {
      "text/plain": [
       "Counter({2: 157, 3: 524, 4: 43, 5: 2})"
      ]
     },
     "execution_count": 33,
     "metadata": {},
     "output_type": "execute_result"
    }
   ],
   "source": [
    "valency_types2=[]\n",
    "for i in tqdm.tqdm_notebook(st_lt50[5000:6000]):\n",
    "    try:\n",
    "        valency_types2.append(len(set(BV.get_valences(i))))\n",
    "    except:\n",
    "        pass\n",
    "Counter(valency_types2)"
   ]
  },
  {
   "cell_type": "code",
   "execution_count": 39,
   "metadata": {
    "collapsed": false
   },
   "outputs": [],
   "source": [
    "ord=np.sum([a.is_ordered for a in st_lt50])"
   ]
  },
  {
   "cell_type": "code",
   "execution_count": 40,
   "metadata": {
    "collapsed": false
   },
   "outputs": [
    {
     "data": {
      "text/plain": [
       "20827"
      ]
     },
     "execution_count": 40,
     "metadata": {},
     "output_type": "execute_result"
    }
   ],
   "source": [
    "ord"
   ]
  },
  {
   "cell_type": "code",
   "execution_count": null,
   "metadata": {
    "collapsed": true
   },
   "outputs": [],
   "source": []
  }
 ],
 "metadata": {
  "kernelspec": {
   "display_name": "Python 2",
   "language": "python",
   "name": "python2"
  },
  "language_info": {
   "codemirror_mode": {
    "name": "ipython",
    "version": 2
   },
   "file_extension": ".py",
   "mimetype": "text/x-python",
   "name": "python",
   "nbconvert_exporter": "python",
   "pygments_lexer": "ipython2",
   "version": "2.7.11"
  }
 },
 "nbformat": 4,
 "nbformat_minor": 0
}
