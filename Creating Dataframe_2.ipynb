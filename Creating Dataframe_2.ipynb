{
 "cells": [
  {
   "cell_type": "markdown",
   "metadata": {},
   "source": [
    "# New Conventions for DataFrame"
   ]
  },
  {
   "cell_type": "markdown",
   "metadata": {},
   "source": [
    "In order to save space and create a more accurate dataframe representing only ternaries, we created the following new Dataframe (known as DataFrame2):\n",
    "\n",
    "Rules: We only include entries from the icsd-ternaries.dat csv file which have unique compositions and for which l+m+n=integer less than 100 where the formula is denoted by ($P_lQ_mR_n$).\n",
    "\n",
    "We also define a new feature vector having the dimensions ((nsmaples $\\times$ nfeatures), where:\n",
    "\n",
    "    nsamples: Number of unique ternary compounds defined by Rules\n",
    "    \n",
    "    nfeatures:  columns 0:2: Atomic number of P,Q,R.\n",
    "                columns 3:5: l,m,n respectively\n",
    "                columns 6:8: Electronegativity of P,Q,R.\n",
    "                column  9: Space Group number\n",
    "                "
   ]
  },
  {
   "cell_type": "code",
   "execution_count": 1,
   "metadata": {
    "collapsed": true
   },
   "outputs": [],
   "source": [
    "import numpy as np"
   ]
  },
  {
   "cell_type": "code",
   "execution_count": 2,
   "metadata": {
    "collapsed": true
   },
   "outputs": [],
   "source": [
    "#Reading data file\n",
    "import csv\n",
    "with open('ICSD/Unique_ICSD.dat','r') as f:\n",
    "            data_1=csv.reader(f,\"excel-tab\")\n",
    "            list_data1=[[element.strip() for element in row] for row in data_1]\n",
    "for row1 in list_data1:\n",
    "    row1[1]=row1[1].replace(' ','')\n",
    "list_space=[row1[1].rstrip('Z').rstrip('S').rstrip(\"H\").rstrip('R') for row1 in list_data1]"
   ]
  },
  {
   "cell_type": "code",
   "execution_count": 3,
   "metadata": {
    "collapsed": true
   },
   "outputs": [],
   "source": [
    "from pymatgen.matproj.rest import MPRester\n",
    "from pymatgen.core import Element, Composition"
   ]
  },
  {
   "cell_type": "code",
   "execution_count": 4,
   "metadata": {
    "collapsed": true
   },
   "outputs": [],
   "source": [
    "#Forming vocabulary of Elements including Deutorium and Tritium\n",
    "element_universe = [str(e) for e in Element]\n",
    "dict_element={}\n",
    "for i,j in enumerate(element_universe):\n",
    "    dict_element[str(j)]=i\n",
    "dict_element['D']=103\n",
    "dict_element['T']=104    "
   ]
  },
  {
   "cell_type": "code",
   "execution_count": 14,
   "metadata": {
    "collapsed": false
   },
   "outputs": [],
   "source": [
    "# Creating arrays for atomic number, stoichiometry and electronegativities\n",
    "stoich_array=np.zeros((len(list_data1),3),dtype=float)\n",
    "at_num_array=np.zeros((len(list_data1),3),dtype=float)\n",
    "electroneg_array=np.zeros((len(list_data1),3),dtype=float)\n",
    "for index,entry in enumerate(list_data1):\n",
    "    comp=Composition(entry[2])\n",
    "    temp_dict=dict(comp.get_el_amt_dict())\n",
    "    for count,key in enumerate(temp_dict.keys()):\n",
    "        stoich_array[index][count]= temp_dict[key]\n",
    "        if key not in ['D','T']: \n",
    "            at_num_array[index][count]=Element(key).Z\n",
    "            electroneg_array[index][count]=Element(key).X\n",
    "        else:\n",
    "            at_num_array[index][count]=Element('H').Z\n",
    "            electroneg_array[index][count]=Element('H').X"
   ]
  },
  {
   "cell_type": "code",
   "execution_count": 15,
   "metadata": {
    "collapsed": false
   },
   "outputs": [
    {
     "data": {
      "text/plain": [
       "(array([ 1.,  6.,  8.]),\n",
       " array([ 32.,  52.,  47.]),\n",
       " array([ 2.01,  2.1 ,  1.93]),\n",
       " 'Ag8 Ge Te6')"
      ]
     },
     "execution_count": 15,
     "metadata": {},
     "output_type": "execute_result"
    }
   ],
   "source": [
    "stoich_array[0],at_num_array[0],electroneg_array[0],list_data1[0][2]"
   ]
  },
  {
   "cell_type": "code",
   "execution_count": 16,
   "metadata": {
    "collapsed": true
   },
   "outputs": [],
   "source": [
    "# Building Spacegroup dictionary\n",
    "with open(\"ICSD/spacegroups.dat\",'r') as f:\n",
    "    dat=csv.reader(f,dialect='excel-tab',quoting=csv.QUOTE_NONE)\n",
    "    list_dat=[element.strip() for row in dat for element in row ]\n",
    "    list1=[[int(list_dat[i*2]),list_dat[i*2+1]] for i in range(int(len(list_dat)/2))]\n",
    "dict_space={}\n",
    "for i in range(len(list1)):\n",
    "    dict_space[list1[i][1]]=list1[i][0]\n",
    "with open('ICSD/spacegroups_2.dat','r') as f1:\n",
    "        f=f1.readlines()\n",
    "        for line in f:\n",
    "            data2=[element.strip() for element in line.split()]\n",
    "            if data2[1] not in dict_space.keys():\n",
    "                dict_space[data2[1]]=int(data2[0])\n",
    "                \n",
    "with open('ICSD/spacegroups_3.dat','r') as f1:\n",
    "        f=f1.readlines()\n",
    "        for line in f:\n",
    "            data3=[element.strip() for element in line.split()]\n",
    "            if data3[0] not in dict_space.keys():\n",
    "                dict_space[data3[0]]=int(data3[1]) "
   ]
  },
  {
   "cell_type": "code",
   "execution_count": 17,
   "metadata": {
    "collapsed": true
   },
   "outputs": [],
   "source": [
    "#creating spacegroup array\n",
    "space_num_array=np.zeros(len(list_space),dtype=float)\n",
    "for i,s in enumerate(list_space):    \n",
    "        space_num_array[i]=dict_space[s]"
   ]
  },
  {
   "cell_type": "code",
   "execution_count": 45,
   "metadata": {
    "collapsed": true
   },
   "outputs": [],
   "source": [
    "#Joining all the arrays\n",
    "Dataframe_all=np.hstack((at_num_array,stoich_array,electroneg_array,space_num_array[:,np.newaxis]))"
   ]
  },
  {
   "cell_type": "code",
   "execution_count": 78,
   "metadata": {
    "collapsed": false
   },
   "outputs": [],
   "source": [
    "#Adding constraints defined in Rules above\n",
    "Dataframe_temp=Dataframe_all[(np.sum(Dataframe_all[:,3:6],axis=1)<100 )]\n",
    "Dataframe2=Dataframe_temp[(np.all(np.mod(Dataframe_temp[:,3:6],1)==0,axis=1))]\n"
   ]
  },
  {
   "cell_type": "code",
   "execution_count": 83,
   "metadata": {
    "collapsed": false
   },
   "outputs": [],
   "source": [
    "#Saving the data as dataframe2.dat\n",
    "np.savetxt(\"dataframe2.dat\",Dataframe2,fmt='%.3f')"
   ]
  },
  {
   "cell_type": "code",
   "execution_count": 84,
   "metadata": {
    "collapsed": false
   },
   "outputs": [
    {
     "name": "stderr",
     "output_type": "stream",
     "text": [
      "/usr/local/lib/python2.7/site-packages/matplotlib/font_manager.py:273: UserWarning: Matplotlib is building the font cache using fc-list. This may take a moment.\n",
      "  warnings.warn('Matplotlib is building the font cache using fc-list. This may take a moment.')\n"
     ]
    }
   ],
   "source": [
    "import pylab as plt"
   ]
  },
  {
   "cell_type": "code",
   "execution_count": 88,
   "metadata": {
    "collapsed": false
   },
   "outputs": [
    {
     "data": {
      "text/plain": [
       "[<matplotlib.lines.Line2D at 0x10a5f30d0>]"
      ]
     },
     "execution_count": 88,
     "metadata": {},
     "output_type": "execute_result"
    },
    {
     "data": {
      "image/png": "[encoded data removed]",
      "text/plain": [
       "<matplotlib.figure.Figure at 0x101b9ef90>"
      ]
     },
     "metadata": {},
     "output_type": "display_data"
    }
   ],
   "source": [
    "%matplotlib inline\n",
    "plt.semilogy(sorted(np.sum(Dataframe2[:,3:6],axis=1)),'o')"
   ]
  },
  {
   "cell_type": "code",
   "execution_count": null,
   "metadata": {
    "collapsed": true
   },
   "outputs": [],
   "source": []
  }
 ],
 "metadata": {
  "kernelspec": {
   "display_name": "Python 2",
   "language": "python",
   "name": "python2"
  },
  "language_info": {
   "codemirror_mode": {
    "name": "ipython",
    "version": 2
   },
   "file_extension": ".py",
   "mimetype": "text/x-python",
   "name": "python",
   "nbconvert_exporter": "python",
   "pygments_lexer": "ipython2",
   "version": "2.7.11"
  }
 },
 "nbformat": 4,
 "nbformat_minor": 0
}
